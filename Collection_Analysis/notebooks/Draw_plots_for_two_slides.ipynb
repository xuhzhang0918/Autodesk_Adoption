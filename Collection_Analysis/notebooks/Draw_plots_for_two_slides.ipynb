{
 "cells": [
  {
   "cell_type": "code",
   "execution_count": 18,
   "metadata": {},
   "outputs": [
    {
     "data": {
      "text/html": [
       "'D:/Working_Space/R_Working/Autodesk_Adoption/first_week_report'"
      ],
      "text/latex": [
       "'D:/Working\\_Space/R\\_Working/Autodesk\\_Adoption/first\\_week\\_report'"
      ],
      "text/markdown": [
       "'D:/Working_Space/R_Working/Autodesk_Adoption/first_week_report'"
      ],
      "text/plain": [
       "[1] \"D:/Working_Space/R_Working/Autodesk_Adoption/first_week_report\""
      ]
     },
     "metadata": {},
     "output_type": "display_data"
    },
    {
     "data": {
      "text/html": [
       "<ol class=list-inline>\n",
       "\t<li>'adjusted_basic_summary.R'</li>\n",
       "\t<li>'bar_graph'</li>\n",
       "\t<li>'basic_summary.R'</li>\n",
       "\t<li>'business_size.R'</li>\n",
       "\t<li>'countries.R'</li>\n",
       "\t<li>'custom functions.R'</li>\n",
       "\t<li>'data_preparation.R'</li>\n",
       "\t<li>'dataset.RData'</li>\n",
       "\t<li>'Group_Analysis.R'</li>\n",
       "\t<li>'histogram'</li>\n",
       "\t<li>'percentage_age_users.R'</li>\n",
       "\t<li>'percentage_bar'</li>\n",
       "\t<li>'setup.R'</li>\n",
       "\t<li>'slide_page_5'</li>\n",
       "\t<li>'top_products.R'</li>\n",
       "\t<li>'Untitled.ipynb'</li>\n",
       "</ol>\n"
      ],
      "text/latex": [
       "\\begin{enumerate*}\n",
       "\\item 'adjusted\\_basic\\_summary.R'\n",
       "\\item 'bar\\_graph'\n",
       "\\item 'basic\\_summary.R'\n",
       "\\item 'business\\_size.R'\n",
       "\\item 'countries.R'\n",
       "\\item 'custom functions.R'\n",
       "\\item 'data\\_preparation.R'\n",
       "\\item 'dataset.RData'\n",
       "\\item 'Group\\_Analysis.R'\n",
       "\\item 'histogram'\n",
       "\\item 'percentage\\_age\\_users.R'\n",
       "\\item 'percentage\\_bar'\n",
       "\\item 'setup.R'\n",
       "\\item 'slide\\_page\\_5'\n",
       "\\item 'top\\_products.R'\n",
       "\\item 'Untitled.ipynb'\n",
       "\\end{enumerate*}\n"
      ],
      "text/markdown": [
       "1. 'adjusted_basic_summary.R'\n",
       "2. 'bar_graph'\n",
       "3. 'basic_summary.R'\n",
       "4. 'business_size.R'\n",
       "5. 'countries.R'\n",
       "6. 'custom functions.R'\n",
       "7. 'data_preparation.R'\n",
       "8. 'dataset.RData'\n",
       "9. 'Group_Analysis.R'\n",
       "10. 'histogram'\n",
       "11. 'percentage_age_users.R'\n",
       "12. 'percentage_bar'\n",
       "13. 'setup.R'\n",
       "14. 'slide_page_5'\n",
       "15. 'top_products.R'\n",
       "16. 'Untitled.ipynb'\n",
       "\n",
       "\n"
      ],
      "text/plain": [
       " [1] \"adjusted_basic_summary.R\" \"bar_graph\"               \n",
       " [3] \"basic_summary.R\"          \"business_size.R\"         \n",
       " [5] \"countries.R\"              \"custom functions.R\"      \n",
       " [7] \"data_preparation.R\"       \"dataset.RData\"           \n",
       " [9] \"Group_Analysis.R\"         \"histogram\"               \n",
       "[11] \"percentage_age_users.R\"   \"percentage_bar\"          \n",
       "[13] \"setup.R\"                  \"slide_page_5\"            \n",
       "[15] \"top_products.R\"           \"Untitled.ipynb\"          "
      ]
     },
     "metadata": {},
     "output_type": "display_data"
    }
   ],
   "source": [
    "getwd()\n",
    "list.files()"
   ]
  },
  {
   "cell_type": "code",
   "execution_count": 19,
   "metadata": {},
   "outputs": [
    {
     "data": {
      "text/html": [
       "<ol>\n",
       "\t<li>TRUE</li>\n",
       "\t<li>TRUE</li>\n",
       "\t<li>TRUE</li>\n",
       "\t<li>TRUE</li>\n",
       "\t<li>TRUE</li>\n",
       "\t<li>TRUE</li>\n",
       "</ol>\n"
      ],
      "text/latex": [
       "\\begin{enumerate}\n",
       "\\item TRUE\n",
       "\\item TRUE\n",
       "\\item TRUE\n",
       "\\item TRUE\n",
       "\\item TRUE\n",
       "\\item TRUE\n",
       "\\end{enumerate}\n"
      ],
      "text/markdown": [
       "1. TRUE\n",
       "2. TRUE\n",
       "3. TRUE\n",
       "4. TRUE\n",
       "5. TRUE\n",
       "6. TRUE\n",
       "\n",
       "\n"
      ],
      "text/plain": [
       "[[1]]\n",
       "[1] TRUE\n",
       "\n",
       "[[2]]\n",
       "[1] TRUE\n",
       "\n",
       "[[3]]\n",
       "[1] TRUE\n",
       "\n",
       "[[4]]\n",
       "[1] TRUE\n",
       "\n",
       "[[5]]\n",
       "[1] TRUE\n",
       "\n",
       "[[6]]\n",
       "[1] TRUE\n"
      ]
     },
     "metadata": {},
     "output_type": "display_data"
    }
   ],
   "source": [
    "#run required R scripts\n",
    "load(\"dataset.RData\")\n",
    "packages = c(\"tidyverse\",\"stringr\",\"lubridate\",\"xlsx\",\"forcats\",\"RColorBrewer\")\n",
    "lapply(packages, require,character.only = TRUE)"
   ]
  },
  {
   "cell_type": "code",
   "execution_count": 21,
   "metadata": {},
   "outputs": [
    {
     "name": "stderr",
     "output_type": "stream",
     "text": [
      "Parsed with column specification:\n",
      "cols(\n",
      "  name = col_character(),\n",
      "  `alpha-2` = col_character(),\n",
      "  `alpha-3` = col_character(),\n",
      "  `country-code` = col_character(),\n",
      "  `iso_3166-2` = col_character(),\n",
      "  region = col_character(),\n",
      "  `sub-region` = col_character(),\n",
      "  `region-code` = col_character(),\n",
      "  `sub-region-code` = col_character()\n",
      ")\n"
     ]
    }
   ],
   "source": [
    "#download csv file to left join countries\n",
    "country_codes <- read_csv(\"https://raw.githubusercontent.com/lukes/ISO-3166-Countries-with-Regional-Codes/master/all/all.csv\")"
   ]
  },
  {
   "cell_type": "code",
   "execution_count": 23,
   "metadata": {},
   "outputs": [
    {
     "data": {
      "text/html": [
       "<table>\n",
       "<thead><tr><th scope=col>larger_region</th><th scope=col>abbr_feature_name</th><th scope=col>region_seats</th></tr></thead>\n",
       "<tbody>\n",
       "\t<tr><td>EMEA </td><td>AEC  </td><td>22302</td></tr>\n",
       "\t<tr><td>EMEA </td><td>PD   </td><td>15314</td></tr>\n",
       "\t<tr><td>EMEA                                         </td><td>M&amp;E                                      </td><td><span style=white-space:pre-wrap>  526</span></td></tr>\n",
       "\t<tr><td>AMER </td><td>AEC  </td><td>45595</td></tr>\n",
       "\t<tr><td>AMER </td><td>PD   </td><td>14447</td></tr>\n",
       "\t<tr><td>AMER                                         </td><td>M&amp;E                                      </td><td><span style=white-space:pre-wrap>  857</span></td></tr>\n",
       "\t<tr><td>APAC </td><td>AEC  </td><td>17490</td></tr>\n",
       "\t<tr><td>APAC </td><td>PD   </td><td> 6475</td></tr>\n",
       "\t<tr><td>APAC   </td><td>M&amp;E</td><td> 1517  </td></tr>\n",
       "</tbody>\n",
       "</table>\n"
      ],
      "text/latex": [
       "\\begin{tabular}{r|lll}\n",
       " larger\\_region & abbr\\_feature\\_name & region\\_seats\\\\\n",
       "\\hline\n",
       "\t EMEA  & AEC   & 22302\\\\\n",
       "\t EMEA  & PD    & 15314\\\\\n",
       "\t EMEA  & M\\&E &   526\\\\\n",
       "\t AMER  & AEC   & 45595\\\\\n",
       "\t AMER  & PD    & 14447\\\\\n",
       "\t AMER  & M\\&E &   857\\\\\n",
       "\t APAC  & AEC   & 17490\\\\\n",
       "\t APAC  & PD    &  6475\\\\\n",
       "\t APAC  & M\\&E &  1517\\\\\n",
       "\\end{tabular}\n"
      ],
      "text/markdown": [
       "\n",
       "larger_region | abbr_feature_name | region_seats | \n",
       "|---|---|---|---|---|---|---|---|---|\n",
       "| EMEA  | AEC   | 22302 | \n",
       "| EMEA  | PD    | 15314 | \n",
       "| EMEA  | M&E   |   526 | \n",
       "| AMER  | AEC   | 45595 | \n",
       "| AMER  | PD    | 14447 | \n",
       "| AMER  | M&E   |   857 | \n",
       "| APAC  | AEC   | 17490 | \n",
       "| APAC  | PD    |  6475 | \n",
       "| APAC  | M&E   |  1517 | \n",
       "\n",
       "\n"
      ],
      "text/plain": [
       "  larger_region abbr_feature_name region_seats\n",
       "1 EMEA          AEC               22302       \n",
       "2 EMEA          PD                15314       \n",
       "3 EMEA          M&E                 526       \n",
       "4 AMER          AEC               45595       \n",
       "5 AMER          PD                14447       \n",
       "6 AMER          M&E                 857       \n",
       "7 APAC          AEC               17490       \n",
       "8 APAC          PD                 6475       \n",
       "9 APAC          M&E                1517       "
      ]
     },
     "metadata": {},
     "output_type": "display_data"
    }
   ],
   "source": [
    "#get the data to draw graph for differnt regions\n",
    "region_seats_data <- dataset %>%\n",
    "    filter(contract_status == \"Active\") %>%\n",
    "    mutate(iso_country_alpha2_code = as.character(iso_country_alpha2_code)) %>%\n",
    "    distinct(account_uuid,.keep_all = TRUE) %>%\n",
    "    group_by(iso_country_alpha2_code,feature_name) %>%\n",
    "    summarise(total_seats = sum(purchased_seat_quantity)) %>%\n",
    "    left_join(country_codes,by = c(\"iso_country_alpha2_code\" = \"alpha-2\")) %>%\n",
    "    group_by(region,feature_name) %>%\n",
    "    summarise(region_seats = sum(total_seats)) %>%\n",
    "    filter(!is.na(region)) %>%\n",
    "    ungroup() %>%\n",
    "    mutate(region = as.factor(region)) %>%\n",
    "    mutate(larger_region = fct_collapse(region,\n",
    "                                        APAC = c(\"Asia\",\"Oceania\"),\n",
    "                                        EMEA = c(\"Europe\",\"Africa\"),\n",
    "                                        AMER = \"Americas\")) %>%\n",
    "    mutate(abbr_feature_name = fct_recode(feature_name,\n",
    "                                          \"AEC\" = \"Architecture Engineering Construction Collection\",\n",
    "                                          \"PD\" = \"Autodesk Product Design & Manufacturing Collection\",\n",
    "                                          \"M&E\" = \"Media and Entertainment Collection\")) %>%\n",
    "    group_by(larger_region,abbr_feature_name) %>%\n",
    "    select(larger_region, abbr_feature_name,region_seats) %>%\n",
    "    group_by(larger_region,abbr_feature_name) %>%\n",
    "    summarise(region_seats = sum(region_seats)) %>%\n",
    "    ungroup();region_seats_data"
   ]
  },
  {
   "cell_type": "code",
   "execution_count": 24,
   "metadata": {},
   "outputs": [
    {
     "data": {
      "text/html": [
       "<table>\n",
       "<thead><tr><th scope=col>feature_name</th><th scope=col>business_size</th><th scope=col>total_seats</th></tr></thead>\n",
       "<tbody>\n",
       "\t<tr><td>Architecture Engineering Construction Collection  </td><td>VSB                                               </td><td>24735                                             </td></tr>\n",
       "\t<tr><td>Architecture Engineering Construction Collection  </td><td>SMB                                               </td><td>56349                                             </td></tr>\n",
       "\t<tr><td>Architecture Engineering Construction Collection  </td><td>ENT                                               </td><td> 4304                                             </td></tr>\n",
       "\t<tr><td>Autodesk Product Design &amp; Manufacturing Collection</td><td>VSB                                                   </td><td>14448                                                 </td></tr>\n",
       "\t<tr><td>Autodesk Product Design &amp; Manufacturing Collection</td><td>SMB                                                   </td><td>20488                                                 </td></tr>\n",
       "\t<tr><td>Autodesk Product Design &amp; Manufacturing Collection</td><td>ENT                                                   </td><td> 1300                                                 </td></tr>\n",
       "\t<tr><td>Media and Entertainment Collection                </td><td>VSB                                               </td><td>  824                                             </td></tr>\n",
       "\t<tr><td>Media and Entertainment Collection                </td><td>SMB                                               </td><td> 1696                                             </td></tr>\n",
       "\t<tr><td>Media and Entertainment Collection                </td><td>ENT                                               </td><td>  380                                             </td></tr>\n",
       "</tbody>\n",
       "</table>\n"
      ],
      "text/latex": [
       "\\begin{tabular}{r|lll}\n",
       " feature\\_name & business\\_size & total\\_seats\\\\\n",
       "\\hline\n",
       "\t Architecture Engineering Construction Collection   & VSB                                                & 24735                                             \\\\\n",
       "\t Architecture Engineering Construction Collection   & SMB                                                & 56349                                             \\\\\n",
       "\t Architecture Engineering Construction Collection   & ENT                                                &  4304                                             \\\\\n",
       "\t Autodesk Product Design \\& Manufacturing Collection & VSB                                                  & 14448                                               \\\\\n",
       "\t Autodesk Product Design \\& Manufacturing Collection & SMB                                                  & 20488                                               \\\\\n",
       "\t Autodesk Product Design \\& Manufacturing Collection & ENT                                                  &  1300                                               \\\\\n",
       "\t Media and Entertainment Collection                 & VSB                                                &   824                                             \\\\\n",
       "\t Media and Entertainment Collection                 & SMB                                                &  1696                                             \\\\\n",
       "\t Media and Entertainment Collection                 & ENT                                                &   380                                             \\\\\n",
       "\\end{tabular}\n"
      ],
      "text/markdown": [
       "\n",
       "feature_name | business_size | total_seats | \n",
       "|---|---|---|---|---|---|---|---|---|\n",
       "| Architecture Engineering Construction Collection   | VSB                                                | 24735                                              | \n",
       "| Architecture Engineering Construction Collection   | SMB                                                | 56349                                              | \n",
       "| Architecture Engineering Construction Collection   | ENT                                                |  4304                                              | \n",
       "| Autodesk Product Design & Manufacturing Collection | VSB                                                | 14448                                              | \n",
       "| Autodesk Product Design & Manufacturing Collection | SMB                                                | 20488                                              | \n",
       "| Autodesk Product Design & Manufacturing Collection | ENT                                                |  1300                                              | \n",
       "| Media and Entertainment Collection                 | VSB                                                |   824                                              | \n",
       "| Media and Entertainment Collection                 | SMB                                                |  1696                                              | \n",
       "| Media and Entertainment Collection                 | ENT                                                |   380                                              | \n",
       "\n",
       "\n"
      ],
      "text/plain": [
       "  feature_name                                       business_size total_seats\n",
       "1 Architecture Engineering Construction Collection   VSB           24735      \n",
       "2 Architecture Engineering Construction Collection   SMB           56349      \n",
       "3 Architecture Engineering Construction Collection   ENT            4304      \n",
       "4 Autodesk Product Design & Manufacturing Collection VSB           14448      \n",
       "5 Autodesk Product Design & Manufacturing Collection SMB           20488      \n",
       "6 Autodesk Product Design & Manufacturing Collection ENT            1300      \n",
       "7 Media and Entertainment Collection                 VSB             824      \n",
       "8 Media and Entertainment Collection                 SMB            1696      \n",
       "9 Media and Entertainment Collection                 ENT             380      "
      ]
     },
     "metadata": {},
     "output_type": "display_data"
    }
   ],
   "source": [
    "#Calculate business size and its seats\n",
    "business_size_seats <- dataset %>%\n",
    "    filter(contract_status == \"Active\") %>%\n",
    "    distinct(account_uuid,.keep_all = TRUE) %>%\n",
    "    group_by(owner_id,feature_name) %>%\n",
    "    summarise(total_seats = sum(purchased_seat_quantity)) %>% #How to define what is VSB,SMB AND ENT?\n",
    "    ungroup() %>%\n",
    "    #(0,2]-VSB, (10,100]-SMB, [100,Inf) - ENT\n",
    "    mutate(business_size = cut(total_seats,breaks = c(0,2,100,Inf),labels = c(\"VSB\",\"SMB\",\"ENT\"))) %>%\n",
    "    group_by(feature_name,business_size) %>%\n",
    "    summarise(total_seats = sum(total_seats)) %>%\n",
    "    ungroup();business_size_seats"
   ]
  },
  {
   "cell_type": "code",
   "execution_count": 26,
   "metadata": {},
   "outputs": [
    {
     "data": {
      "text/html": [
       "<table>\n",
       "<thead><tr><th scope=col>feature_name</th><th scope=col>business_size</th><th scope=col>total_seats</th><th scope=col>abbr_feature_name</th><th scope=col>percentage_seats</th><th scope=col>x</th><th scope=col>y</th><th scope=col>text</th><th scope=col>label</th></tr></thead>\n",
       "<tbody>\n",
       "\t<tr><td>Architecture Engineering Construction Collection  </td><td>VSB                                               </td><td>24735                                             </td><td>AEC                                               </td><td>0.28967771                                        </td><td>0                                                 </td><td>0.85516115                                        </td><td>VSB 29%                                           </td><td>n=85388                                           </td></tr>\n",
       "\t<tr><td>Architecture Engineering Construction Collection  </td><td>SMB                                               </td><td>56349                                             </td><td>AEC                                               </td><td>0.65991708                                        </td><td>0                                                 </td><td>0.38036375                                        </td><td>SMB 66%                                           </td><td>n=85388                                           </td></tr>\n",
       "\t<tr><td>Architecture Engineering Construction Collection  </td><td>ENT                                               </td><td> 4304                                             </td><td>AEC                                               </td><td>0.05040521                                        </td><td>0                                                 </td><td>0.02520260                                        </td><td>ENT 5%                                            </td><td>n=85388                                           </td></tr>\n",
       "\t<tr><td>Autodesk Product Design &amp; Manufacturing Collection</td><td>VSB                                                   </td><td>14448                                                 </td><td>PD                                                    </td><td>0.39871951                                            </td><td>0                                                     </td><td>0.80064025                                            </td><td>VSB 40%                                               </td><td>n=36236                                               </td></tr>\n",
       "\t<tr><td>Autodesk Product Design &amp; Manufacturing Collection</td><td>SMB                                                   </td><td>20488                                                 </td><td>PD                                                    </td><td>0.56540457                                            </td><td>0                                                     </td><td>0.31857821                                            </td><td>SMB 57%                                               </td><td>n=36236                                               </td></tr>\n",
       "\t<tr><td>Autodesk Product Design &amp; Manufacturing Collection</td><td>ENT                                                   </td><td> 1300                                                 </td><td>PD                                                    </td><td>0.03587592                                            </td><td>0                                                     </td><td>0.01793796                                            </td><td>ENT 4%                                                </td><td>n=36236                                               </td></tr>\n",
       "\t<tr><td><span style=white-space:pre-wrap>Media and Entertainment Collection                </span></td><td>VSB                                                                                       </td><td><span style=white-space:pre-wrap>  824</span>                                             </td><td>M&amp;E                                                                                   </td><td>0.28413793                                                                                </td><td>0                                                                                         </td><td>0.85793103                                                                                </td><td>VSB 28%                                                                                   </td><td>n=2900                                                                                    </td></tr>\n",
       "\t<tr><td><span style=white-space:pre-wrap>Media and Entertainment Collection                </span></td><td>SMB                                                                                       </td><td> 1696                                                                                     </td><td>M&amp;E                                                                                   </td><td>0.58482759                                                                                </td><td>0                                                                                         </td><td>0.42344828                                                                                </td><td>SMB 58%                                                                                   </td><td>n=2900                                                                                    </td></tr>\n",
       "\t<tr><td><span style=white-space:pre-wrap>Media and Entertainment Collection                </span></td><td>ENT                                                                                       </td><td><span style=white-space:pre-wrap>  380</span>                                             </td><td>M&amp;E                                                                                   </td><td>0.13103448                                                                                </td><td>0                                                                                         </td><td>0.06551724                                                                                </td><td>ENT 13%                                                                                   </td><td>n=2900                                                                                    </td></tr>\n",
       "</tbody>\n",
       "</table>\n"
      ],
      "text/latex": [
       "\\begin{tabular}{r|lllllllll}\n",
       " feature\\_name & business\\_size & total\\_seats & abbr\\_feature\\_name & percentage\\_seats & x & y & text & label\\\\\n",
       "\\hline\n",
       "\t Architecture Engineering Construction Collection   & VSB                                                & 24735                                              & AEC                                                & 0.28967771                                         & 0                                                  & 0.85516115                                         & VSB 29\\%                                          & n=85388                                           \\\\\n",
       "\t Architecture Engineering Construction Collection   & SMB                                                & 56349                                              & AEC                                                & 0.65991708                                         & 0                                                  & 0.38036375                                         & SMB 66\\%                                          & n=85388                                           \\\\\n",
       "\t Architecture Engineering Construction Collection   & ENT                                                &  4304                                              & AEC                                                & 0.05040521                                         & 0                                                  & 0.02520260                                         & ENT 5\\%                                           & n=85388                                           \\\\\n",
       "\t Autodesk Product Design \\& Manufacturing Collection & VSB                                                  & 14448                                                & PD                                                   & 0.39871951                                           & 0                                                    & 0.80064025                                           & VSB 40\\%                                            & n=36236                                             \\\\\n",
       "\t Autodesk Product Design \\& Manufacturing Collection & SMB                                                  & 20488                                                & PD                                                   & 0.56540457                                           & 0                                                    & 0.31857821                                           & SMB 57\\%                                            & n=36236                                             \\\\\n",
       "\t Autodesk Product Design \\& Manufacturing Collection & ENT                                                  &  1300                                                & PD                                                   & 0.03587592                                           & 0                                                    & 0.01793796                                           & ENT 4\\%                                             & n=36236                                             \\\\\n",
       "\t Media and Entertainment Collection                 & VSB                                                &   824                                              & M\\&E                                              & 0.28413793                                         & 0                                                  & 0.85793103                                         & VSB 28\\%                                          & n=2900                                            \\\\\n",
       "\t Media and Entertainment Collection                 & SMB                                                &  1696                                              & M\\&E                                              & 0.58482759                                         & 0                                                  & 0.42344828                                         & SMB 58\\%                                          & n=2900                                            \\\\\n",
       "\t Media and Entertainment Collection                 & ENT                                                &   380                                              & M\\&E                                              & 0.13103448                                         & 0                                                  & 0.06551724                                         & ENT 13\\%                                          & n=2900                                            \\\\\n",
       "\\end{tabular}\n"
      ],
      "text/markdown": [
       "\n",
       "feature_name | business_size | total_seats | abbr_feature_name | percentage_seats | x | y | text | label | \n",
       "|---|---|---|---|---|---|---|---|---|\n",
       "| Architecture Engineering Construction Collection   | VSB                                                | 24735                                              | AEC                                                | 0.28967771                                         | 0                                                  | 0.85516115                                         | VSB 29%                                            | n=85388                                            | \n",
       "| Architecture Engineering Construction Collection   | SMB                                                | 56349                                              | AEC                                                | 0.65991708                                         | 0                                                  | 0.38036375                                         | SMB 66%                                            | n=85388                                            | \n",
       "| Architecture Engineering Construction Collection   | ENT                                                |  4304                                              | AEC                                                | 0.05040521                                         | 0                                                  | 0.02520260                                         | ENT 5%                                             | n=85388                                            | \n",
       "| Autodesk Product Design & Manufacturing Collection | VSB                                                | 14448                                              | PD                                                 | 0.39871951                                         | 0                                                  | 0.80064025                                         | VSB 40%                                            | n=36236                                            | \n",
       "| Autodesk Product Design & Manufacturing Collection | SMB                                                | 20488                                              | PD                                                 | 0.56540457                                         | 0                                                  | 0.31857821                                         | SMB 57%                                            | n=36236                                            | \n",
       "| Autodesk Product Design & Manufacturing Collection | ENT                                                |  1300                                              | PD                                                 | 0.03587592                                         | 0                                                  | 0.01793796                                         | ENT 4%                                             | n=36236                                            | \n",
       "| Media and Entertainment Collection                 | VSB                                                |   824                                              | M&E                                                | 0.28413793                                         | 0                                                  | 0.85793103                                         | VSB 28%                                            | n=2900                                             | \n",
       "| Media and Entertainment Collection                 | SMB                                                |  1696                                              | M&E                                                | 0.58482759                                         | 0                                                  | 0.42344828                                         | SMB 58%                                            | n=2900                                             | \n",
       "| Media and Entertainment Collection                 | ENT                                                |   380                                              | M&E                                                | 0.13103448                                         | 0                                                  | 0.06551724                                         | ENT 13%                                            | n=2900                                             | \n",
       "\n",
       "\n"
      ],
      "text/plain": [
       "  feature_name                                       business_size total_seats\n",
       "1 Architecture Engineering Construction Collection   VSB           24735      \n",
       "2 Architecture Engineering Construction Collection   SMB           56349      \n",
       "3 Architecture Engineering Construction Collection   ENT            4304      \n",
       "4 Autodesk Product Design & Manufacturing Collection VSB           14448      \n",
       "5 Autodesk Product Design & Manufacturing Collection SMB           20488      \n",
       "6 Autodesk Product Design & Manufacturing Collection ENT            1300      \n",
       "7 Media and Entertainment Collection                 VSB             824      \n",
       "8 Media and Entertainment Collection                 SMB            1696      \n",
       "9 Media and Entertainment Collection                 ENT             380      \n",
       "  abbr_feature_name percentage_seats x y          text    label  \n",
       "1 AEC               0.28967771       0 0.85516115 VSB 29% n=85388\n",
       "2 AEC               0.65991708       0 0.38036375 SMB 66% n=85388\n",
       "3 AEC               0.05040521       0 0.02520260 ENT 5%  n=85388\n",
       "4 PD                0.39871951       0 0.80064025 VSB 40% n=36236\n",
       "5 PD                0.56540457       0 0.31857821 SMB 57% n=36236\n",
       "6 PD                0.03587592       0 0.01793796 ENT 4%  n=36236\n",
       "7 M&E               0.28413793       0 0.85793103 VSB 28% n=2900 \n",
       "8 M&E               0.58482759       0 0.42344828 SMB 58% n=2900 \n",
       "9 M&E               0.13103448       0 0.06551724 ENT 13% n=2900 "
      ]
     },
     "metadata": {},
     "output_type": "display_data"
    },
    {
     "data": {},
     "metadata": {},
     "output_type": "display_data"
    },
    {
     "data": {
      "image/png": "[encoded data removed]",
      "text/plain": [
       "plot without title"
      ]
     },
     "metadata": {},
     "output_type": "display_data"
    }
   ],
   "source": [
    "#Draw the plot\n",
    "\n",
    "#Since company names are deleted, we can only infer business size with how many seats the company has.\n",
    "#Howerver it's not accurate because, for example, a big company may only has a small department that needs\n",
    "# the product collection.\n",
    "\n",
    "data_for_plot <- business_size_seats %>%\n",
    "    mutate(abbr_feature_name = fct_recode(feature_name,\n",
    "                                          \"AEC\" = \"Architecture Engineering Construction Collection\",\n",
    "                                          \"PD\" = \"Autodesk Product Design & Manufacturing Collection\",\n",
    "                                          \"M&E\" = \"Media and Entertainment Collection\")) %>%\n",
    "    group_by(abbr_feature_name) %>%\n",
    "    mutate(percentage_seats = total_seats/sum(total_seats)) %>%\n",
    "    ungroup() %>%\n",
    "    #Add text for text\n",
    "    mutate(x = 0, y = if_else(business_size == \"VSB\",(1 + (1-percentage_seats))/2,\n",
    "                              if_else(business_size == \"SMB\",((1-lag(percentage_seats))+lead(percentage_seats))/2,\n",
    "                                      (percentage_seats/2))),\n",
    "           text = str_c(business_size, \" \",round(percentage_seats,2)*100,\"%\")) %>%\n",
    "    group_by(abbr_feature_name) %>%\n",
    "    mutate(label = str_c(\"n=\",sum(total_seats)));data_for_plot\n",
    "\n",
    "\n",
    "\n",
    "data_for_plot %>%\n",
    "    ggplot() +\n",
    "    geom_col(mapping = aes(x = 0, y = percentage_seats, fill = business_size),position = \"stack\") + \n",
    "    geom_text(mapping = aes(x = 0, y = y, label = text)) +\n",
    "    facet_grid(~abbr_feature_name) +\n",
    "    labs(title = \"SMBs comprise the majority of Industry Collection Customers\",subtitle = \"How to determine business size is the real problem\") +\n",
    "    geom_text(mapping = aes(x = 0, y = -0.05, label = label)) +\n",
    "    theme_void() +\n",
    "    theme(legend.position=\"none\") +\n",
    "    scale_fill_brewer( palette=\"Pastel1\")"
   ]
  }
 ],
 "metadata": {
  "kernelspec": {
   "display_name": "R",
   "language": "R",
   "name": "ir"
  },
  "language_info": {
   "codemirror_mode": "r",
   "file_extension": ".r",
   "mimetype": "text/x-r-source",
   "name": "R",
   "pygments_lexer": "r",
   "version": "3.4.2"
  }
 },
 "nbformat": 4,
 "nbformat_minor": 2
}
