{
 "cells": [
  {
   "cell_type": "code",
   "execution_count": 2,
   "metadata": {},
   "outputs": [
    {
     "data": {
      "text/html": [
       "'D:/Working_Space/GitHub/Autodesk_Adoption'"
      ],
      "text/latex": [
       "'D:/Working\\_Space/GitHub/Autodesk\\_Adoption'"
      ],
      "text/markdown": [
       "'D:/Working_Space/GitHub/Autodesk_Adoption'"
      ],
      "text/plain": [
       "[1] \"D:/Working_Space/GitHub/Autodesk_Adoption\""
      ]
     },
     "metadata": {},
     "output_type": "display_data"
    }
   ],
   "source": [
    "getwd()"
   ]
  },
  {
   "cell_type": "code",
   "execution_count": 4,
   "metadata": {},
   "outputs": [],
   "source": [
    "library(arules)\n",
    "load(\"data/transaction_2017-10-21.RData\")"
   ]
  },
  {
   "cell_type": "code",
   "execution_count": 5,
   "metadata": {},
   "outputs": [
    {
     "data": {
      "text/plain": [
       "transactions as itemMatrix in sparse format with\n",
       " 192373 rows (elements/itemsets/transactions) and\n",
       " 30 columns (items) and a density of 0.04732594 \n",
       "\n",
       "most frequent items:\n",
       "     RVT      ACD INVPROSA    CIV3D   NAVMAN  (Other) \n",
       "   86846    67625    25427    18815    16818    57596 \n",
       "\n",
       "element (itemset/transaction) length distribution:\n",
       "sizes\n",
       "     1      2      3      4      5      6      7      8      9     10     11 \n",
       "128398  52032   9051   1864    608    203     90     56     22     25     19 \n",
       "    12     13 \n",
       "     2      3 \n",
       "\n",
       "   Min. 1st Qu.  Median    Mean 3rd Qu.    Max. \n",
       "   1.00    1.00    1.00    1.42    2.00   13.00 \n",
       "\n",
       "includes extended item information - examples:\n",
       "  labels\n",
       "1 3DSMAX\n",
       "2 ACAD_E\n",
       "3    ACD\n",
       "\n",
       "includes extended transaction information - examples:\n",
       "                     transactionID\n",
       "1 000009de373431343f4581dc27a6a60d\n",
       "2 00000a166a2e45161981864dbe5a4128\n",
       "3 000082ec4f7ee0f7ca12da0444dd0027"
      ]
     },
     "metadata": {},
     "output_type": "display_data"
    }
   ],
   "source": [
    "summary(tr)"
   ]
  },
  {
   "cell_type": "code",
   "execution_count": 6,
   "metadata": {},
   "outputs": [
    {
     "data": {
      "image/png": "[encoded data removed]",
      "text/plain": [
       "plot without title"
      ]
     },
     "metadata": {},
     "output_type": "display_data"
    }
   ],
   "source": [
    "itemFrequencyPlot(tr,topN = 10) "
   ]
  },
  {
   "cell_type": "code",
   "execution_count": 7,
   "metadata": {},
   "outputs": [
    {
     "name": "stdout",
     "output_type": "stream",
     "text": [
      "Apriori\n",
      "\n",
      "Parameter specification:\n",
      " confidence minval smax arem  aval originalSupport maxtime support minlen\n",
      "        0.3    0.1    1 none FALSE            TRUE       5    0.01      2\n",
      " maxlen target   ext\n",
      "     10  rules FALSE\n",
      "\n",
      "Algorithmic control:\n",
      " filter tree heap memopt load sort verbose\n",
      "    0.1 TRUE TRUE  FALSE TRUE    2    TRUE\n",
      "\n",
      "Absolute minimum support count: 1923 \n",
      "\n",
      "set item appearances ...[0 item(s)] done [0.00s].\n",
      "set transactions ...[30 item(s), 192373 transaction(s)] done [0.02s].\n",
      "sorting and recoding items ... [14 item(s)] done [0.00s].\n",
      "creating transaction tree ... done [0.04s].\n",
      "checking subsets of size 1 2 3 done [0.00s].\n",
      "writing ... [10 rule(s)] done [0.00s].\n",
      "creating S4 object  ... done [0.01s].\n"
     ]
    }
   ],
   "source": [
    "product.rule <- apriori(tr,parameter = list(support = 0.01,confidence = 0.3, minlen = 2))"
   ]
  },
  {
   "cell_type": "code",
   "execution_count": 8,
   "metadata": {},
   "outputs": [
    {
     "data": {
      "text/plain": [
       "set of 10 rules\n",
       "\n",
       "rule length distribution (lhs + rhs):sizes\n",
       "2 3 \n",
       "8 2 \n",
       "\n",
       "   Min. 1st Qu.  Median    Mean 3rd Qu.    Max. \n",
       "    2.0     2.0     2.0     2.2     2.0     3.0 \n",
       "\n",
       "summary of quality measures:\n",
       "    support          confidence          lift            count      \n",
       " Min.   :0.01445   Min.   :0.3175   Min.   :0.8072   Min.   : 2780  \n",
       " 1st Qu.:0.01765   1st Qu.:0.3881   1st Qu.:0.9339   1st Qu.: 3395  \n",
       " Median :0.02673   Median :0.4112   Median :1.1284   Median : 5143  \n",
       " Mean   :0.03989   Mean   :0.4553   Mean   :1.8194   Mean   : 7674  \n",
       " 3rd Qu.:0.05110   3rd Qu.:0.5094   3rd Qu.:1.3507   3rd Qu.: 9830  \n",
       " Max.   :0.12811   Max.   :0.6420   Max.   :4.8571   Max.   :24644  \n",
       "\n",
       "mining info:\n",
       " data ntransactions support confidence\n",
       "   tr        192373    0.01        0.3"
      ]
     },
     "metadata": {},
     "output_type": "display_data"
    },
    {
     "name": "stdout",
     "output_type": "stream",
     "text": [
      "     lhs             rhs        support    confidence lift      count\n",
      "[1]  {BLDSYS}     => {RVT}      0.01445109 0.4616407  1.0225825  2780\n",
      "[2]  {3DSMAX}     => {ACD}      0.01602096 0.4140247  1.1777771  3082\n",
      "[3]  {ARCHDESK}   => {RVT}      0.02571047 0.4082879  0.9044006  4946\n",
      "[4]  {AMECH_PP}   => {INVPROSA} 0.05282446 0.6419862  4.8570738 10162\n",
      "[5]  {INVPROSA}   => {AMECH_PP} 0.05282446 0.3996539  4.8570738 10162\n",
      "[6]  {NAVMAN}     => {ACD}      0.02775857 0.3175169  0.9032412  5340\n",
      "[7]  {NAVMAN}     => {RVT}      0.04592121 0.5252705  1.1635294  8834\n",
      "[8]  {ACD}        => {RVT}      0.12810530 0.3644214  0.8072317 24644\n",
      "[9]  {ACD,NAVMAN} => {RVT}      0.01764801 0.6357678  1.4082923  3395\n",
      "[10] {NAVMAN,RVT} => {ACD}      0.01764801 0.3843106  1.0932493  3395\n"
     ]
    }
   ],
   "source": [
    "summary(product.rule)\n",
    "\n",
    "inspect(product.rule)\n"
   ]
  }
 ],
 "metadata": {
  "kernelspec": {
   "display_name": "R",
   "language": "R",
   "name": "ir"
  },
  "language_info": {
   "codemirror_mode": "r",
   "file_extension": ".r",
   "mimetype": "text/x-r-source",
   "name": "R",
   "pygments_lexer": "r",
   "version": "3.4.2"
  }
 },
 "nbformat": 4,
 "nbformat_minor": 2
}
