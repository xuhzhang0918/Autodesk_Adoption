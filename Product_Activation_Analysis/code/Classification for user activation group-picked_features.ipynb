{
 "cells": [
  {
   "cell_type": "code",
   "execution_count": 1,
   "metadata": {
    "collapsed": true
   },
   "outputs": [],
   "source": [
    "from sklearn.ensemble import RandomForestClassifier\n",
    "from sklearn.datasets import make_classification\n",
    "from sklearn.metrics import roc_curve, auc\n",
    "from sklearn.model_selection import train_test_split\n",
    "from sklearn.preprocessing import label_binarize\n",
    "from sklearn.multiclass import OneVsRestClassifier\n",
    "import pandas as pd\n",
    "import numpy as np\n",
    "from sklearn.model_selection import train_test_split\n",
    "from sklearn.tree import export_graphviz\n",
    "from sklearn.metrics import accuracy_score\n",
    "import matplotlib.pyplot as plt\n",
    "%matplotlib inline\n",
    "#!pip install pydot>=1.2.4\n",
    "import pydot\n",
    "#!pip install pydotplus\n",
    "import pydotplus\n",
    "from IPython.display import Image\n",
    "from sklearn.metrics import roc_curve, auc\n",
    "from sklearn.preprocessing import label_binarize\n",
    "from itertools import cycle\n",
    "from sklearn import svm, datasets\n",
    "from scipy import interp\n",
    "from sklearn.preprocessing import OneHotEncoder\n",
    "from sklearn import model_selection\n",
    "from sklearn.ensemble import BaggingClassifier\n",
    "from sklearn.tree import DecisionTreeClassifier\n",
    "from sklearn.ensemble import ExtraTreesClassifier\n",
    "from sklearn.ensemble import AdaBoostClassifier\n",
    "from sklearn.ensemble import GradientBoostingClassifier\n",
    "from sklearn.metrics import confusion_matrix\n",
    "from sklearn.metrics import accuracy_score"
   ]
  },
  {
   "cell_type": "code",
   "execution_count": 2,
   "metadata": {
    "collapsed": true
   },
   "outputs": [],
   "source": [
    "features = pd.read_csv(\"sampled_picked_features.csv\")"
   ]
  },
  {
   "cell_type": "code",
   "execution_count": 32,
   "metadata": {},
   "outputs": [
    {
     "data": {
      "text/plain": [
       "['percentage_reg_seats_activated',\n",
       " 'bmt_product_groupIC/Suites',\n",
       " 'bmt_product_groupLT Family',\n",
       " 'bmt_product_groupOther',\n",
       " 'uuid_age_days',\n",
       " 'days_since_order_created',\n",
       " 'uuid_seats_on_active_subs',\n",
       " 'active_registered_seat_sum',\n",
       " 'discount_rate',\n",
       " 'srp_billed_usd',\n",
       " 'parent_owner_uuid_count',\n",
       " 'percentage_reg_seats_activated_channel_partner_csn',\n",
       " 'sf_subscription_seats_billed',\n",
       " 'deploymentNetworked',\n",
       " 'deploymentSession Specific Network',\n",
       " 'deploymentStandalone',\n",
       " 'renewal_rate',\n",
       " 'self_parented',\n",
       " 'hier_industry_group_nameEDU',\n",
       " 'hier_industry_group_nameM&E',\n",
       " 'hier_industry_group_nameMFG',\n",
       " 'hier_industry_group_nameMulti AEC Lead',\n",
       " 'hier_industry_group_nameMulti EDU Lead',\n",
       " 'hier_industry_group_nameMulti M&E Lead',\n",
       " 'hier_industry_group_nameMulti MFG Lead',\n",
       " 'hier_industry_group_nameMulti OTH Lead',\n",
       " 'hier_industry_group_nameMulti Unknown Lead',\n",
       " 'hier_industry_group_nameOTH',\n",
       " 'hier_industry_group_nameUnknown',\n",
       " 'discount_rate_channel_partner_csn',\n",
       " 'percentage_reg_seats_activated_country_code',\n",
       " 'active_registered_seat_sum_partner',\n",
       " 'order_sourceSAP',\n",
       " 'order_typeGOR',\n",
       " 'order_typeL2',\n",
       " 'order_typeNew Acquisition',\n",
       " 'order_typeRE',\n",
       " 'order_typeZOLT',\n",
       " 'bmt_marketMature',\n",
       " 'bmt_channeleStore',\n",
       " 'bmt_channelIndirect',\n",
       " 'bmt_offer_type_subgroupProduct Subs New SU',\n",
       " 'bmt_billing_term',\n",
       " 'billing_behaviorRenewable',\n",
       " 'country_codeAI',\n",
       " 'country_codeAR',\n",
       " 'country_codeAT',\n",
       " 'country_codeAU',\n",
       " 'country_codeAW',\n",
       " 'country_codeAZ',\n",
       " 'country_codeBD',\n",
       " 'country_codeBE',\n",
       " 'country_codeBG',\n",
       " 'country_codeBH',\n",
       " 'country_codeBO',\n",
       " 'country_codeBR',\n",
       " 'country_codeBW',\n",
       " 'country_codeCA',\n",
       " 'country_codeCH',\n",
       " 'country_codeCL',\n",
       " 'country_codeCM',\n",
       " 'country_codeCN',\n",
       " 'country_codeCO',\n",
       " 'country_codeCR',\n",
       " 'country_codeCY',\n",
       " 'country_codeCZ',\n",
       " 'country_codeDE',\n",
       " 'country_codeDK',\n",
       " 'country_codeDO',\n",
       " 'country_codeEC',\n",
       " 'country_codeEE',\n",
       " 'country_codeEG',\n",
       " 'country_codeES',\n",
       " 'country_codeFI',\n",
       " 'country_codeFJ',\n",
       " 'country_codeFO',\n",
       " 'country_codeFR',\n",
       " 'country_codeGA',\n",
       " 'country_codeGB',\n",
       " 'country_codeGF',\n",
       " 'country_codeGH',\n",
       " 'country_codeGR',\n",
       " 'country_codeGT',\n",
       " 'country_codeHK',\n",
       " 'country_codeHN',\n",
       " 'country_codeHR',\n",
       " 'country_codeHU',\n",
       " 'country_codeID',\n",
       " 'country_codeIE',\n",
       " 'country_codeIL',\n",
       " 'country_codeIN',\n",
       " 'country_codeIS',\n",
       " 'country_codeIT',\n",
       " 'country_codeJM',\n",
       " 'country_codeJO',\n",
       " 'country_codeJP',\n",
       " 'country_codeKE',\n",
       " 'country_codeKR',\n",
       " 'country_codeKW',\n",
       " 'country_codeKZ',\n",
       " 'country_codeLB',\n",
       " 'country_codeLK',\n",
       " 'country_codeLT',\n",
       " 'country_codeLU',\n",
       " 'country_codeLV',\n",
       " 'country_codeMC',\n",
       " 'country_codeMD',\n",
       " 'country_codeMK',\n",
       " 'country_codeMT',\n",
       " 'country_codeMU',\n",
       " 'country_codeMX',\n",
       " 'country_codeMY',\n",
       " 'country_codeMZ',\n",
       " 'country_codeNC',\n",
       " 'country_codeNG',\n",
       " 'country_codeNL',\n",
       " 'country_codeNO',\n",
       " 'country_codeNZ',\n",
       " 'country_codeOM',\n",
       " 'country_codePA',\n",
       " 'country_codePE',\n",
       " 'country_codePH',\n",
       " 'country_codePK',\n",
       " 'country_codePL',\n",
       " 'country_codePT',\n",
       " 'country_codeQA',\n",
       " 'country_codeRE',\n",
       " 'country_codeRO',\n",
       " 'country_codeRS',\n",
       " 'country_codeRU',\n",
       " 'country_codeSA',\n",
       " 'country_codeSE',\n",
       " 'country_codeSG',\n",
       " 'country_codeSI',\n",
       " 'country_codeSK',\n",
       " 'country_codeTH',\n",
       " 'country_codeTR',\n",
       " 'country_codeTW',\n",
       " 'country_codeTZ',\n",
       " 'country_codeUA',\n",
       " 'country_codeUS',\n",
       " 'country_codeUY',\n",
       " 'country_codeVN',\n",
       " 'country_codeXK',\n",
       " 'country_codeZA',\n",
       " 'customer_size_codeSMB',\n",
       " 'customer_size_codeUNK',\n",
       " 'customer_size_codeVSB',\n",
       " 'car_pings_since_agreement_start_channel_partner_csn',\n",
       " 'car_pings_since_agreement_start_country_code',\n",
       " 'parent_named_account_flg',\n",
       " 'named_account_flg',\n",
       " 'activation_label']"
      ]
     },
     "execution_count": 32,
     "metadata": {},
     "output_type": "execute_result"
    }
   ],
   "source": [
    "feature_list = list(features.columns)\n",
    "feature_list"
   ]
  },
  {
   "cell_type": "markdown",
   "metadata": {},
   "source": [
    "# Features and Targets and Convert Data to Arrays"
   ]
  },
  {
   "cell_type": "code",
   "execution_count": 3,
   "metadata": {
    "collapsed": true
   },
   "outputs": [],
   "source": [
    "# Labels are the values we want to predict\n",
    "labels = np.array(features['activation_label'])\n",
    "# Remove the labels from the features\n",
    "# axis 1 refers to the columns\n",
    "features= features.drop(['activation_label', 'percentage_reg_seats_activated'], axis = 1)\n",
    "#features= features.drop(car, axis = 1)"
   ]
  },
  {
   "cell_type": "code",
   "execution_count": 4,
   "metadata": {
    "collapsed": true
   },
   "outputs": [],
   "source": [
    "# Saving feature names for later use\n",
    "feature_list = list(features.columns)\n",
    "# Convert to numpy array\n",
    "features = np.array(features)"
   ]
  },
  {
   "cell_type": "code",
   "execution_count": 15,
   "metadata": {
    "collapsed": true
   },
   "outputs": [],
   "source": [
    "# Split the data into training and testing sets\n",
    "train_features, test_features, train_labels, test_labels = train_test_split(features, labels, test_size = 0.25, random_state = 42)"
   ]
  },
  {
   "cell_type": "markdown",
   "metadata": {},
   "source": [
    "# 1. Random Forest"
   ]
  },
  {
   "cell_type": "code",
   "execution_count": 6,
   "metadata": {},
   "outputs": [],
   "source": [
    "# Instantiate model with 1000 decision trees\n",
    "rf = RandomForestClassifier(n_estimators = 1000, random_state = 42)\n",
    "# Train the model on training data\n",
    "rf.fit(train_features, train_labels);"
   ]
  },
  {
   "cell_type": "code",
   "execution_count": 7,
   "metadata": {},
   "outputs": [
    {
     "data": {
      "text/plain": [
       "0.72145512480084972"
      ]
     },
     "execution_count": 7,
     "metadata": {},
     "output_type": "execute_result"
    }
   ],
   "source": [
    "# Use the forest's predict method on the test data\n",
    "predictions = rf.predict(test_features)\n",
    "accuracy_score(predictions, test_labels)"
   ]
  },
  {
   "cell_type": "code",
   "execution_count": 8,
   "metadata": {
    "collapsed": true
   },
   "outputs": [],
   "source": [
    "y_pred_rf = rf.predict_proba(test_features)"
   ]
  },
  {
   "cell_type": "code",
   "execution_count": 9,
   "metadata": {},
   "outputs": [
    {
     "data": {
      "text/plain": [
       "array([1, 1, 1, ..., 1, 3, 3], dtype=int64)"
      ]
     },
     "execution_count": 9,
     "metadata": {},
     "output_type": "execute_result"
    }
   ],
   "source": [
    "test_labels"
   ]
  },
  {
   "cell_type": "code",
   "execution_count": 10,
   "metadata": {
    "collapsed": true
   },
   "outputs": [],
   "source": [
    "s = pd.Series(test_labels.tolist())\n",
    "test_Y = pd.get_dummies(s)\n",
    "test_Y = test_Y.values"
   ]
  },
  {
   "cell_type": "code",
   "execution_count": 91,
   "metadata": {
    "collapsed": true
   },
   "outputs": [],
   "source": [
    "# Compute ROC curve and ROC area for each class\n",
    "#classifier = OneVsRestClassifier(RandomForestClassifier(n_estimators = 1000, random_state = 42))\n",
    "#y_score = classifier.fit(train_features, train_labels).decision_function(test_features)\n",
    "fpr = dict()\n",
    "tpr = dict()\n",
    "roc_auc = dict()\n",
    "for i in range(n_classes):\n",
    "    fpr[i], tpr[i], _ = roc_curve(test_labels[:,i], y_pred_rf[:,i])\n",
    "    roc_auc[i] = auc(fpr[i], tpr[i])\n",
    "\n",
    "# Compute micro-average ROC curve and ROC area\n",
    "fpr[\"micro\"], tpr[\"micro\"], _ = roc_curve(test_Y.ravel(), y_pred_rf.ravel())\n",
    "roc_auc[\"micro\"] = auc(fpr[\"micro\"], tpr[\"micro\"])"
   ]
  },
  {
   "cell_type": "code",
   "execution_count": 117,
   "metadata": {},
   "outputs": [
    {
     "data": {
      "image/png": "[encoded data removed]",
      "text/plain": [
       "<matplotlib.figure.Figure at 0x1d11bd45cc0>"
      ]
     },
     "metadata": {},
     "output_type": "display_data"
    }
   ],
   "source": [
    "plt.figure()\n",
    "lw = 2\n",
    "plt.plot(fpr[2], tpr[2], lw=lw, label='high activation label')\n",
    "plt.plot(fpr[0], tpr[0], lw=lw, label='low activation label')\n",
    "plt.plot(fpr[1], tpr[1], lw=lw, label='medium activation label')\n",
    "plt.plot([0, 1], [0, 1], color='navy', lw=lw, linestyle='--')\n",
    "plt.xlim([0.0, 1.0])\n",
    "plt.ylim([0.0, 1.05])\n",
    "plt.xlabel('False Positive Rate')\n",
    "plt.ylabel('True Positive Rate')\n",
    "plt.title('Receiver operating characteristic example')\n",
    "plt.legend(loc=\"lower right\")\n",
    "plt.show()"
   ]
  },
  {
   "cell_type": "code",
   "execution_count": 134,
   "metadata": {},
   "outputs": [
    {
     "data": {
      "text/plain": [
       "array([[ 0.448,  0.008,  0.544],\n",
       "       [ 0.104,  0.001,  0.895],\n",
       "       [ 0.353,  0.146,  0.501],\n",
       "       ..., \n",
       "       [ 0.395,  0.118,  0.487],\n",
       "       [ 0.357,  0.08 ,  0.563],\n",
       "       [ 0.196,  0.075,  0.729]])"
      ]
     },
     "execution_count": 134,
     "metadata": {},
     "output_type": "execute_result"
    }
   ],
   "source": [
    "y_pred_rf"
   ]
  },
  {
   "cell_type": "code",
   "execution_count": 18,
   "metadata": {},
   "outputs": [
    {
     "data": {
      "text/plain": [
       "array([[ 217,    7,  649],\n",
       "       [  27,   27,  205],\n",
       "       [ 149,   12, 2473]], dtype=int64)"
      ]
     },
     "execution_count": 18,
     "metadata": {},
     "output_type": "execute_result"
    }
   ],
   "source": [
    "cm = confusion_matrix(test_labels, predictions); cm"
   ]
  },
  {
   "cell_type": "code",
   "execution_count": 17,
   "metadata": {
    "collapsed": true
   },
   "outputs": [],
   "source": [
    "import numpy as np\n",
    "\n",
    "\n",
    "def plot_confusion_matrix(cm,\n",
    "                          target_names,\n",
    "                          title='Confusion matrix',\n",
    "                          cmap=None,\n",
    "                          normalize=True):\n",
    "    \"\"\"\n",
    "    given a sklearn confusion matrix (cm), make a nice plot\n",
    "\n",
    "    Arguments\n",
    "    ---------\n",
    "    cm:           confusion matrix from sklearn.metrics.confusion_matrix\n",
    "\n",
    "    target_names: given classification classes such as [0, 1, 2]\n",
    "                  the class names, for example: ['high', 'medium', 'low']\n",
    "\n",
    "    title:        the text to display at the top of the matrix\n",
    "\n",
    "    cmap:         the gradient of the values displayed from matplotlib.pyplot.cm\n",
    "                  see http://matplotlib.org/examples/color/colormaps_reference.html\n",
    "                  plt.get_cmap('jet') or plt.cm.Blues\n",
    "\n",
    "    normalize:    If False, plot the raw numbers\n",
    "                  If True, plot the proportions\n",
    "\n",
    "    Usage\n",
    "    -----\n",
    "    plot_confusion_matrix(cm           = cm,                  # confusion matrix created by\n",
    "                                                              # sklearn.metrics.confusion_matrix\n",
    "                          normalize    = True,                # show proportions\n",
    "                          target_names = y_labels_vals,       # list of names of the classes\n",
    "                          title        = best_estimator_name) # title of graph\n",
    "\n",
    "    Citiation\n",
    "    ---------\n",
    "    http://scikit-learn.org/stable/auto_examples/model_selection/plot_confusion_matrix.html\n",
    "\n",
    "    \"\"\"\n",
    "    import matplotlib.pyplot as plt\n",
    "    import numpy as np\n",
    "    import itertools\n",
    "\n",
    "    accuracy = np.trace(cm) / float(np.sum(cm))\n",
    "    misclass = 1 - accuracy\n",
    "\n",
    "    if cmap is None:\n",
    "        cmap = plt.get_cmap('Blues')\n",
    "\n",
    "    plt.figure(figsize=(8, 6))\n",
    "    plt.imshow(cm, interpolation='nearest', cmap=cmap)\n",
    "    plt.title(title)\n",
    "    plt.colorbar()\n",
    "\n",
    "    if target_names is not None:\n",
    "        tick_marks = np.arange(len(target_names))\n",
    "        plt.xticks(tick_marks, target_names, rotation=45)\n",
    "        plt.yticks(tick_marks, target_names)\n",
    "\n",
    "    if normalize:\n",
    "        cm = cm.astype('float') / cm.sum(axis=1)[:, np.newaxis]\n",
    "\n",
    "\n",
    "    thresh = cm.max() / 1.5 if normalize else cm.max() / 2\n",
    "    for i, j in itertools.product(range(cm.shape[0]), range(cm.shape[1])):\n",
    "        if normalize:\n",
    "            plt.text(j, i, \"{:0.4f}\".format(cm[i, j]),\n",
    "                     horizontalalignment=\"center\",\n",
    "                     color=\"white\" if cm[i, j] > thresh else \"black\")\n",
    "        else:\n",
    "            plt.text(j, i, \"{:,}\".format(cm[i, j]),\n",
    "                     horizontalalignment=\"center\",\n",
    "                     color=\"white\" if cm[i, j] > thresh else \"black\")\n",
    "\n",
    "\n",
    "    plt.tight_layout()\n",
    "    plt.ylabel('True label')\n",
    "    plt.xlabel('Predicted label\\naccuracy={:0.4f}; misclass={:0.4f}'.format(accuracy, misclass))\n",
    "    plt.show()"
   ]
  },
  {
   "cell_type": "code",
   "execution_count": 20,
   "metadata": {},
   "outputs": [
    {
     "data": {
      "image/png": "[encoded data removed]",
      "text/plain": [
       "<matplotlib.figure.Figure at 0x1749e2702e8>"
      ]
     },
     "metadata": {},
     "output_type": "display_data"
    }
   ],
   "source": [
    "plot_confusion_matrix(cm           = cm, \n",
    "                      normalize    = False,\n",
    "                      target_names = ['low', 'medium', 'high'],\n",
    "                      title        = \"Confusion Matrix\")\n"
   ]
  },
  {
   "cell_type": "markdown",
   "metadata": {},
   "source": [
    "# Visualizing a Single Decision Tree"
   ]
  },
  {
   "cell_type": "code",
   "execution_count": 29,
   "metadata": {
    "collapsed": true
   },
   "outputs": [],
   "source": [
    "# Import tools needed for visualization\n",
    "from sklearn.tree import export_graphviz\n",
    "import pydot\n",
    "# Pull out one tree from the forest\n",
    "tree = rf.estimators_[5]\n",
    "# Export the image to a dot file\n",
    "export_graphviz(tree, out_file = 'tree.dot', feature_names = feature_list, rounded = True, precision = 1)\n",
    "# Use dot file to create a graph\n",
    "(graph, ) = pydot.graph_from_dot_file('tree.dot')"
   ]
  },
  {
   "cell_type": "markdown",
   "metadata": {},
   "source": [
    "true positive, false positive"
   ]
  },
  {
   "cell_type": "code",
   "execution_count": 42,
   "metadata": {},
   "outputs": [
    {
     "data": {
      "text/plain": [
       "(75, 3)"
      ]
     },
     "execution_count": 42,
     "metadata": {},
     "output_type": "execute_result"
    }
   ],
   "source": [
    "y_test.shape"
   ]
  },
  {
   "cell_type": "code",
   "execution_count": 34,
   "metadata": {},
   "outputs": [
    {
     "data": {
      "text/plain": [
       "(75, 3)"
      ]
     },
     "execution_count": 34,
     "metadata": {},
     "output_type": "execute_result"
    }
   ],
   "source": [
    "y_score.shape"
   ]
  },
  {
   "cell_type": "code",
   "execution_count": 52,
   "metadata": {
    "collapsed": true,
    "scrolled": true
   },
   "outputs": [],
   "source": [
    "# Limit depth of tree to 3 levels\n",
    "rf_small = RandomForestRegressor(n_estimators=10, max_depth = 3)\n",
    "rf_small.fit(train_features, train_labels)\n",
    "# Extract the small tree\n",
    "tree_small = rf_small.estimators_[5]\n",
    "# Save the tree as a png image\n",
    "export_graphviz(tree_small, out_file = 'small_tree.dot', feature_names = feature_list, rounded = True, precision = 1)\n",
    "(graph, ) = pydot.graph_from_dot_file('small_tree.dot')"
   ]
  },
  {
   "cell_type": "code",
   "execution_count": 51,
   "metadata": {},
   "outputs": [
    {
     "data": {
      "image/svg+xml": [
       "<?xml version=\"1.0\" encoding=\"UTF-8\" standalone=\"no\"?>\r\n",
       "<!DOCTYPE svg PUBLIC \"-//W3C//DTD SVG 1.1//EN\"\r\n",
       " \"http://www.w3.org/Graphics/SVG/1.1/DTD/svg11.dtd\">\r\n",
       "<!-- Generated by graphviz version 2.38.0 (20140413.2041)\r\n",
       " -->\r\n",
       "<!-- Title: Tree Pages: 1 -->\r\n",
       "<svg width=\"922pt\" height=\"373pt\"\r\n",
       " viewBox=\"0.00 0.00 922.00 373.00\" xmlns=\"http://www.w3.org/2000/svg\" xmlns:xlink=\"http://www.w3.org/1999/xlink\">\r\n",
       "<g id=\"graph0\" class=\"graph\" transform=\"scale(1 1) rotate(0) translate(4 369)\">\r\n",
       "<title>Tree</title>\r\n",
       "<polygon fill=\"white\" stroke=\"none\" points=\"-4,4 -4,-369 918,-369 918,4 -4,4\"/>\r\n",
       "<!-- 0 -->\r\n",
       "<g id=\"node1\" class=\"node\"><title>0</title>\r\n",
       "<path fill=\"none\" stroke=\"black\" d=\"M600.5,-365C600.5,-365 404.5,-365 404.5,-365 398.5,-365 392.5,-359 392.5,-353 392.5,-353 392.5,-309 392.5,-309 392.5,-303 398.5,-297 404.5,-297 404.5,-297 600.5,-297 600.5,-297 606.5,-297 612.5,-303 612.5,-309 612.5,-309 612.5,-353 612.5,-353 612.5,-359 606.5,-365 600.5,-365\"/>\r\n",
       "<text text-anchor=\"middle\" x=\"502.5\" y=\"-349.8\" font-family=\"Helvetica,sans-Serif\" font-size=\"14.00\">product_utilization_health &lt;= 1.5</text>\r\n",
       "<text text-anchor=\"middle\" x=\"502.5\" y=\"-334.8\" font-family=\"Helvetica,sans-Serif\" font-size=\"14.00\">mse = 0.2</text>\r\n",
       "<text text-anchor=\"middle\" x=\"502.5\" y=\"-319.8\" font-family=\"Helvetica,sans-Serif\" font-size=\"14.00\">samples = 7140</text>\r\n",
       "<text text-anchor=\"middle\" x=\"502.5\" y=\"-304.8\" font-family=\"Helvetica,sans-Serif\" font-size=\"14.00\">value = 0.7</text>\r\n",
       "</g>\r\n",
       "<!-- 1 -->\r\n",
       "<g id=\"node2\" class=\"node\"><title>1</title>\r\n",
       "<path fill=\"none\" stroke=\"black\" d=\"M483,-261C483,-261 262,-261 262,-261 256,-261 250,-255 250,-249 250,-249 250,-205 250,-205 250,-199 256,-193 262,-193 262,-193 483,-193 483,-193 489,-193 495,-199 495,-205 495,-205 495,-249 495,-249 495,-255 489,-261 483,-261\"/>\r\n",
       "<text text-anchor=\"middle\" x=\"372.5\" y=\"-245.8\" font-family=\"Helvetica,sans-Serif\" font-size=\"14.00\">bmt_product_groupIC/Suites &lt;= 0.5</text>\r\n",
       "<text text-anchor=\"middle\" x=\"372.5\" y=\"-230.8\" font-family=\"Helvetica,sans-Serif\" font-size=\"14.00\">mse = 0.2</text>\r\n",
       "<text text-anchor=\"middle\" x=\"372.5\" y=\"-215.8\" font-family=\"Helvetica,sans-Serif\" font-size=\"14.00\">samples = 3097</text>\r\n",
       "<text text-anchor=\"middle\" x=\"372.5\" y=\"-200.8\" font-family=\"Helvetica,sans-Serif\" font-size=\"14.00\">value = 0.4</text>\r\n",
       "</g>\r\n",
       "<!-- 0&#45;&gt;1 -->\r\n",
       "<g id=\"edge1\" class=\"edge\"><title>0&#45;&gt;1</title>\r\n",
       "<path fill=\"none\" stroke=\"black\" d=\"M460.293,-296.884C448.373,-287.531 435.281,-277.259 422.93,-267.568\"/>\r\n",
       "<polygon fill=\"black\" stroke=\"black\" points=\"424.968,-264.719 414.94,-261.299 420.647,-270.226 424.968,-264.719\"/>\r\n",
       "<text text-anchor=\"middle\" x=\"417.936\" y=\"-282.419\" font-family=\"Helvetica,sans-Serif\" font-size=\"14.00\">True</text>\r\n",
       "</g>\r\n",
       "<!-- 8 -->\r\n",
       "<g id=\"node9\" class=\"node\"><title>8</title>\r\n",
       "<path fill=\"none\" stroke=\"black\" d=\"M742,-261C742,-261 525,-261 525,-261 519,-261 513,-255 513,-249 513,-249 513,-205 513,-205 513,-199 519,-193 525,-193 525,-193 742,-193 742,-193 748,-193 754,-199 754,-205 754,-205 754,-249 754,-249 754,-255 748,-261 742,-261\"/>\r\n",
       "<text text-anchor=\"middle\" x=\"633.5\" y=\"-245.8\" font-family=\"Helvetica,sans-Serif\" font-size=\"14.00\">active_registered_seat_sum &lt;= 0.5</text>\r\n",
       "<text text-anchor=\"middle\" x=\"633.5\" y=\"-230.8\" font-family=\"Helvetica,sans-Serif\" font-size=\"14.00\">mse = 0.0</text>\r\n",
       "<text text-anchor=\"middle\" x=\"633.5\" y=\"-215.8\" font-family=\"Helvetica,sans-Serif\" font-size=\"14.00\">samples = 4043</text>\r\n",
       "<text text-anchor=\"middle\" x=\"633.5\" y=\"-200.8\" font-family=\"Helvetica,sans-Serif\" font-size=\"14.00\">value = 0.9</text>\r\n",
       "</g>\r\n",
       "<!-- 0&#45;&gt;8 -->\r\n",
       "<g id=\"edge8\" class=\"edge\"><title>0&#45;&gt;8</title>\r\n",
       "<path fill=\"none\" stroke=\"black\" d=\"M545.032,-296.884C557.044,-287.531 570.236,-277.259 582.682,-267.568\"/>\r\n",
       "<polygon fill=\"black\" stroke=\"black\" points=\"584.993,-270.205 590.733,-261.299 580.693,-264.681 584.993,-270.205\"/>\r\n",
       "<text text-anchor=\"middle\" x=\"587.645\" y=\"-282.408\" font-family=\"Helvetica,sans-Serif\" font-size=\"14.00\">False</text>\r\n",
       "</g>\r\n",
       "<!-- 2 -->\r\n",
       "<g id=\"node3\" class=\"node\"><title>2</title>\r\n",
       "<path fill=\"none\" stroke=\"black\" d=\"M253.5,-157C253.5,-157 71.5,-157 71.5,-157 65.5,-157 59.5,-151 59.5,-145 59.5,-145 59.5,-101 59.5,-101 59.5,-95 65.5,-89 71.5,-89 71.5,-89 253.5,-89 253.5,-89 259.5,-89 265.5,-95 265.5,-101 265.5,-101 265.5,-145 265.5,-145 265.5,-151 259.5,-157 253.5,-157\"/>\r\n",
       "<text text-anchor=\"middle\" x=\"162.5\" y=\"-141.8\" font-family=\"Helvetica,sans-Serif\" font-size=\"14.00\">deploymentStandalone &lt;= 0.5</text>\r\n",
       "<text text-anchor=\"middle\" x=\"162.5\" y=\"-126.8\" font-family=\"Helvetica,sans-Serif\" font-size=\"14.00\">mse = 0.1</text>\r\n",
       "<text text-anchor=\"middle\" x=\"162.5\" y=\"-111.8\" font-family=\"Helvetica,sans-Serif\" font-size=\"14.00\">samples = 1570</text>\r\n",
       "<text text-anchor=\"middle\" x=\"162.5\" y=\"-96.8\" font-family=\"Helvetica,sans-Serif\" font-size=\"14.00\">value = 0.2</text>\r\n",
       "</g>\r\n",
       "<!-- 1&#45;&gt;2 -->\r\n",
       "<g id=\"edge2\" class=\"edge\"><title>1&#45;&gt;2</title>\r\n",
       "<path fill=\"none\" stroke=\"black\" d=\"M304.319,-192.884C283.767,-182.901 261.06,-171.872 239.952,-161.619\"/>\r\n",
       "<polygon fill=\"black\" stroke=\"black\" points=\"241.222,-158.346 230.698,-157.125 238.164,-164.642 241.222,-158.346\"/>\r\n",
       "</g>\r\n",
       "<!-- 5 -->\r\n",
       "<g id=\"node6\" class=\"node\"><title>5</title>\r\n",
       "<path fill=\"none\" stroke=\"black\" d=\"M509.5,-157C509.5,-157 295.5,-157 295.5,-157 289.5,-157 283.5,-151 283.5,-145 283.5,-145 283.5,-101 283.5,-101 283.5,-95 289.5,-89 295.5,-89 295.5,-89 509.5,-89 509.5,-89 515.5,-89 521.5,-95 521.5,-101 521.5,-101 521.5,-145 521.5,-145 521.5,-151 515.5,-157 509.5,-157\"/>\r\n",
       "<text text-anchor=\"middle\" x=\"402.5\" y=\"-141.8\" font-family=\"Helvetica,sans-Serif\" font-size=\"14.00\">uuid_seats_on_active_subs &lt;= 9.5</text>\r\n",
       "<text text-anchor=\"middle\" x=\"402.5\" y=\"-126.8\" font-family=\"Helvetica,sans-Serif\" font-size=\"14.00\">mse = 0.2</text>\r\n",
       "<text text-anchor=\"middle\" x=\"402.5\" y=\"-111.8\" font-family=\"Helvetica,sans-Serif\" font-size=\"14.00\">samples = 1527</text>\r\n",
       "<text text-anchor=\"middle\" x=\"402.5\" y=\"-96.8\" font-family=\"Helvetica,sans-Serif\" font-size=\"14.00\">value = 0.7</text>\r\n",
       "</g>\r\n",
       "<!-- 1&#45;&gt;5 -->\r\n",
       "<g id=\"edge5\" class=\"edge\"><title>1&#45;&gt;5</title>\r\n",
       "<path fill=\"none\" stroke=\"black\" d=\"M382.24,-192.884C384.677,-184.6 387.325,-175.595 389.879,-166.911\"/>\r\n",
       "<polygon fill=\"black\" stroke=\"black\" points=\"393.242,-167.881 392.706,-157.299 386.527,-165.905 393.242,-167.881\"/>\r\n",
       "</g>\r\n",
       "<!-- 3 -->\r\n",
       "<g id=\"node4\" class=\"node\"><title>3</title>\r\n",
       "<path fill=\"none\" stroke=\"black\" d=\"M99,-53C99,-53 12,-53 12,-53 6,-53 0,-47 0,-41 0,-41 0,-12 0,-12 0,-6 6,-0 12,-0 12,-0 99,-0 99,-0 105,-0 111,-6 111,-12 111,-12 111,-41 111,-41 111,-47 105,-53 99,-53\"/>\r\n",
       "<text text-anchor=\"middle\" x=\"55.5\" y=\"-37.8\" font-family=\"Helvetica,sans-Serif\" font-size=\"14.00\">mse = 0.2</text>\r\n",
       "<text text-anchor=\"middle\" x=\"55.5\" y=\"-22.8\" font-family=\"Helvetica,sans-Serif\" font-size=\"14.00\">samples = 109</text>\r\n",
       "<text text-anchor=\"middle\" x=\"55.5\" y=\"-7.8\" font-family=\"Helvetica,sans-Serif\" font-size=\"14.00\">value = 0.5</text>\r\n",
       "</g>\r\n",
       "<!-- 2&#45;&gt;3 -->\r\n",
       "<g id=\"edge3\" class=\"edge\"><title>2&#45;&gt;3</title>\r\n",
       "<path fill=\"none\" stroke=\"black\" d=\"M125.077,-88.9485C114.408,-79.526 102.799,-69.2731 92.175,-59.8906\"/>\r\n",
       "<polygon fill=\"black\" stroke=\"black\" points=\"94.4533,-57.2331 84.641,-53.2367 89.8195,-62.4798 94.4533,-57.2331\"/>\r\n",
       "</g>\r\n",
       "<!-- 4 -->\r\n",
       "<g id=\"node5\" class=\"node\"><title>4</title>\r\n",
       "<path fill=\"none\" stroke=\"black\" d=\"M236,-53C236,-53 141,-53 141,-53 135,-53 129,-47 129,-41 129,-41 129,-12 129,-12 129,-6 135,-0 141,-0 141,-0 236,-0 236,-0 242,-0 248,-6 248,-12 248,-12 248,-41 248,-41 248,-47 242,-53 236,-53\"/>\r\n",
       "<text text-anchor=\"middle\" x=\"188.5\" y=\"-37.8\" font-family=\"Helvetica,sans-Serif\" font-size=\"14.00\">mse = 0.1</text>\r\n",
       "<text text-anchor=\"middle\" x=\"188.5\" y=\"-22.8\" font-family=\"Helvetica,sans-Serif\" font-size=\"14.00\">samples = 1461</text>\r\n",
       "<text text-anchor=\"middle\" x=\"188.5\" y=\"-7.8\" font-family=\"Helvetica,sans-Serif\" font-size=\"14.00\">value = 0.2</text>\r\n",
       "</g>\r\n",
       "<!-- 2&#45;&gt;4 -->\r\n",
       "<g id=\"edge4\" class=\"edge\"><title>2&#45;&gt;4</title>\r\n",
       "<path fill=\"none\" stroke=\"black\" d=\"M171.594,-88.9485C173.909,-80.5323 176.407,-71.4536 178.754,-62.9243\"/>\r\n",
       "<polygon fill=\"black\" stroke=\"black\" points=\"182.141,-63.8069 181.419,-53.2367 175.392,-61.9499 182.141,-63.8069\"/>\r\n",
       "</g>\r\n",
       "<!-- 6 -->\r\n",
       "<g id=\"node7\" class=\"node\"><title>6</title>\r\n",
       "<path fill=\"none\" stroke=\"black\" d=\"M424,-53C424,-53 329,-53 329,-53 323,-53 317,-47 317,-41 317,-41 317,-12 317,-12 317,-6 323,-0 329,-0 329,-0 424,-0 424,-0 430,-0 436,-6 436,-12 436,-12 436,-41 436,-41 436,-47 430,-53 424,-53\"/>\r\n",
       "<text text-anchor=\"middle\" x=\"376.5\" y=\"-37.8\" font-family=\"Helvetica,sans-Serif\" font-size=\"14.00\">mse = 0.2</text>\r\n",
       "<text text-anchor=\"middle\" x=\"376.5\" y=\"-22.8\" font-family=\"Helvetica,sans-Serif\" font-size=\"14.00\">samples = 1021</text>\r\n",
       "<text text-anchor=\"middle\" x=\"376.5\" y=\"-7.8\" font-family=\"Helvetica,sans-Serif\" font-size=\"14.00\">value = 0.8</text>\r\n",
       "</g>\r\n",
       "<!-- 5&#45;&gt;6 -->\r\n",
       "<g id=\"edge6\" class=\"edge\"><title>5&#45;&gt;6</title>\r\n",
       "<path fill=\"none\" stroke=\"black\" d=\"M393.406,-88.9485C391.091,-80.5323 388.593,-71.4536 386.246,-62.9243\"/>\r\n",
       "<polygon fill=\"black\" stroke=\"black\" points=\"389.608,-61.9499 383.581,-53.2367 382.859,-63.8069 389.608,-61.9499\"/>\r\n",
       "</g>\r\n",
       "<!-- 7 -->\r\n",
       "<g id=\"node8\" class=\"node\"><title>7</title>\r\n",
       "<path fill=\"none\" stroke=\"black\" d=\"M553,-53C553,-53 466,-53 466,-53 460,-53 454,-47 454,-41 454,-41 454,-12 454,-12 454,-6 460,-0 466,-0 466,-0 553,-0 553,-0 559,-0 565,-6 565,-12 565,-12 565,-41 565,-41 565,-47 559,-53 553,-53\"/>\r\n",
       "<text text-anchor=\"middle\" x=\"509.5\" y=\"-37.8\" font-family=\"Helvetica,sans-Serif\" font-size=\"14.00\">mse = 0.2</text>\r\n",
       "<text text-anchor=\"middle\" x=\"509.5\" y=\"-22.8\" font-family=\"Helvetica,sans-Serif\" font-size=\"14.00\">samples = 506</text>\r\n",
       "<text text-anchor=\"middle\" x=\"509.5\" y=\"-7.8\" font-family=\"Helvetica,sans-Serif\" font-size=\"14.00\">value = 0.6</text>\r\n",
       "</g>\r\n",
       "<!-- 5&#45;&gt;7 -->\r\n",
       "<g id=\"edge7\" class=\"edge\"><title>5&#45;&gt;7</title>\r\n",
       "<path fill=\"none\" stroke=\"black\" d=\"M439.923,-88.9485C450.592,-79.526 462.201,-69.2731 472.825,-59.8906\"/>\r\n",
       "<polygon fill=\"black\" stroke=\"black\" points=\"475.181,-62.4798 480.359,-53.2367 470.547,-57.2331 475.181,-62.4798\"/>\r\n",
       "</g>\r\n",
       "<!-- 9 -->\r\n",
       "<g id=\"node10\" class=\"node\"><title>9</title>\r\n",
       "<path fill=\"none\" stroke=\"black\" d=\"M643,-149.5C643,-149.5 564,-149.5 564,-149.5 558,-149.5 552,-143.5 552,-137.5 552,-137.5 552,-108.5 552,-108.5 552,-102.5 558,-96.5 564,-96.5 564,-96.5 643,-96.5 643,-96.5 649,-96.5 655,-102.5 655,-108.5 655,-108.5 655,-137.5 655,-137.5 655,-143.5 649,-149.5 643,-149.5\"/>\r\n",
       "<text text-anchor=\"middle\" x=\"603.5\" y=\"-134.3\" font-family=\"Helvetica,sans-Serif\" font-size=\"14.00\">mse = 0.0</text>\r\n",
       "<text text-anchor=\"middle\" x=\"603.5\" y=\"-119.3\" font-family=\"Helvetica,sans-Serif\" font-size=\"14.00\">samples = 26</text>\r\n",
       "<text text-anchor=\"middle\" x=\"603.5\" y=\"-104.3\" font-family=\"Helvetica,sans-Serif\" font-size=\"14.00\">value = 0.0</text>\r\n",
       "</g>\r\n",
       "<!-- 8&#45;&gt;9 -->\r\n",
       "<g id=\"edge9\" class=\"edge\"><title>8&#45;&gt;9</title>\r\n",
       "<path fill=\"none\" stroke=\"black\" d=\"M623.76,-192.884C620.59,-182.106 617.061,-170.108 613.848,-159.184\"/>\r\n",
       "<polygon fill=\"black\" stroke=\"black\" points=\"617.185,-158.126 611.006,-149.52 610.47,-160.101 617.185,-158.126\"/>\r\n",
       "</g>\r\n",
       "<!-- 10 -->\r\n",
       "<g id=\"node11\" class=\"node\"><title>10</title>\r\n",
       "<path fill=\"none\" stroke=\"black\" d=\"M902,-157C902,-157 685,-157 685,-157 679,-157 673,-151 673,-145 673,-145 673,-101 673,-101 673,-95 679,-89 685,-89 685,-89 902,-89 902,-89 908,-89 914,-95 914,-101 914,-101 914,-145 914,-145 914,-151 908,-157 902,-157\"/>\r\n",
       "<text text-anchor=\"middle\" x=\"793.5\" y=\"-141.8\" font-family=\"Helvetica,sans-Serif\" font-size=\"14.00\">active_registered_seat_sum &lt;= 3.5</text>\r\n",
       "<text text-anchor=\"middle\" x=\"793.5\" y=\"-126.8\" font-family=\"Helvetica,sans-Serif\" font-size=\"14.00\">mse = 0.0</text>\r\n",
       "<text text-anchor=\"middle\" x=\"793.5\" y=\"-111.8\" font-family=\"Helvetica,sans-Serif\" font-size=\"14.00\">samples = 4017</text>\r\n",
       "<text text-anchor=\"middle\" x=\"793.5\" y=\"-96.8\" font-family=\"Helvetica,sans-Serif\" font-size=\"14.00\">value = 0.9</text>\r\n",
       "</g>\r\n",
       "<!-- 8&#45;&gt;10 -->\r\n",
       "<g id=\"edge10\" class=\"edge\"><title>8&#45;&gt;10</title>\r\n",
       "<path fill=\"none\" stroke=\"black\" d=\"M685.447,-192.884C700.615,-183.214 717.322,-172.563 732.971,-162.587\"/>\r\n",
       "<polygon fill=\"black\" stroke=\"black\" points=\"734.989,-165.452 741.54,-157.125 731.226,-159.549 734.989,-165.452\"/>\r\n",
       "</g>\r\n",
       "<!-- 11 -->\r\n",
       "<g id=\"node12\" class=\"node\"><title>11</title>\r\n",
       "<path fill=\"none\" stroke=\"black\" d=\"M752,-53C752,-53 657,-53 657,-53 651,-53 645,-47 645,-41 645,-41 645,-12 645,-12 645,-6 651,-0 657,-0 657,-0 752,-0 752,-0 758,-0 764,-6 764,-12 764,-12 764,-41 764,-41 764,-47 758,-53 752,-53\"/>\r\n",
       "<text text-anchor=\"middle\" x=\"704.5\" y=\"-37.8\" font-family=\"Helvetica,sans-Serif\" font-size=\"14.00\">mse = 0.0</text>\r\n",
       "<text text-anchor=\"middle\" x=\"704.5\" y=\"-22.8\" font-family=\"Helvetica,sans-Serif\" font-size=\"14.00\">samples = 2949</text>\r\n",
       "<text text-anchor=\"middle\" x=\"704.5\" y=\"-7.8\" font-family=\"Helvetica,sans-Serif\" font-size=\"14.00\">value = 1.0</text>\r\n",
       "</g>\r\n",
       "<!-- 10&#45;&gt;11 -->\r\n",
       "<g id=\"edge11\" class=\"edge\"><title>10&#45;&gt;11</title>\r\n",
       "<path fill=\"none\" stroke=\"black\" d=\"M762.372,-88.9485C753.757,-79.8005 744.404,-69.8697 735.78,-60.7126\"/>\r\n",
       "<polygon fill=\"black\" stroke=\"black\" points=\"738.143,-58.1168 728.739,-53.2367 733.047,-62.9161 738.143,-58.1168\"/>\r\n",
       "</g>\r\n",
       "<!-- 12 -->\r\n",
       "<g id=\"node13\" class=\"node\"><title>12</title>\r\n",
       "<path fill=\"none\" stroke=\"black\" d=\"M889,-53C889,-53 794,-53 794,-53 788,-53 782,-47 782,-41 782,-41 782,-12 782,-12 782,-6 788,-0 794,-0 794,-0 889,-0 889,-0 895,-0 901,-6 901,-12 901,-12 901,-41 901,-41 901,-47 895,-53 889,-53\"/>\r\n",
       "<text text-anchor=\"middle\" x=\"841.5\" y=\"-37.8\" font-family=\"Helvetica,sans-Serif\" font-size=\"14.00\">mse = 0.1</text>\r\n",
       "<text text-anchor=\"middle\" x=\"841.5\" y=\"-22.8\" font-family=\"Helvetica,sans-Serif\" font-size=\"14.00\">samples = 1068</text>\r\n",
       "<text text-anchor=\"middle\" x=\"841.5\" y=\"-7.8\" font-family=\"Helvetica,sans-Serif\" font-size=\"14.00\">value = 0.9</text>\r\n",
       "</g>\r\n",
       "<!-- 10&#45;&gt;12 -->\r\n",
       "<g id=\"edge12\" class=\"edge\"><title>10&#45;&gt;12</title>\r\n",
       "<path fill=\"none\" stroke=\"black\" d=\"M810.288,-88.9485C814.656,-80.3494 819.375,-71.0586 823.789,-62.3689\"/>\r\n",
       "<polygon fill=\"black\" stroke=\"black\" points=\"827.019,-63.7376 828.427,-53.2367 820.778,-60.5675 827.019,-63.7376\"/>\r\n",
       "</g>\r\n",
       "</g>\r\n",
       "</svg>\r\n"
      ],
      "text/plain": [
       "<graphviz.files.Source at 0x1dd7f37e128>"
      ]
     },
     "metadata": {},
     "output_type": "display_data"
    }
   ],
   "source": [
    "import graphviz\n",
    "from IPython.display import display\n",
    "display(graphviz.Source(graph))"
   ]
  },
  {
   "cell_type": "markdown",
   "metadata": {},
   "source": [
    "# Variable Importances "
   ]
  },
  {
   "cell_type": "code",
   "execution_count": 40,
   "metadata": {
    "scrolled": true
   },
   "outputs": [
    {
     "name": "stdout",
     "output_type": "stream",
     "text": [
      "Variable: product_utilization_health Importance: 0.32\n",
      "Variable: bmt_product_groupIC/Suites Importance: 0.16\n",
      "Variable: uuid_age_days        Importance: 0.06\n",
      "Variable: days_since_order_created Importance: 0.05\n",
      "Variable: uuid_seats_on_active_subs Importance: 0.04\n",
      "Variable: active_registered_seat_sum Importance: 0.04\n",
      "Variable: discount_rate        Importance: 0.03\n",
      "Variable: srp_billed_usd       Importance: 0.02\n",
      "Variable: total_billed_usd     Importance: 0.02\n",
      "Variable: parent_owner_uuid_count Importance: 0.02\n",
      "Variable: percentage_reg_seats_activated_channel_partner_csn Importance: 0.02\n",
      "Variable: sf_subscription_seats_billed Importance: 0.01\n",
      "Variable: deploymentStandalone Importance: 0.01\n",
      "Variable: renewal_rate         Importance: 0.01\n",
      "Variable: self_parented        Importance: 0.01\n",
      "Variable: hier_industry_group_nameMFG Importance: 0.01\n",
      "Variable: onboarding_health    Importance: 0.01\n",
      "Variable: access_health        Importance: 0.01\n",
      "Variable: support_health       Importance: 0.01\n",
      "Variable: discount_rate_channel_partner_csn Importance: 0.01\n",
      "Variable: percentage_reg_seats_activated_country_code Importance: 0.01\n",
      "Variable: active_registered_seat_sum_partner Importance: 0.01\n",
      "Variable: order_sourceSAP      Importance: 0.0\n",
      "Variable: order_typeGOR        Importance: 0.0\n",
      "Variable: order_typeL2         Importance: 0.0\n",
      "Variable: order_typeNew Acquisition Importance: 0.0\n",
      "Variable: order_typeRE         Importance: 0.0\n",
      "Variable: order_typeZOLT       Importance: 0.0\n",
      "Variable: fiscal_quarter_and_year Importance: 0.0\n",
      "Variable: bmt_product_groupLT Family Importance: 0.0\n",
      "Variable: bmt_product_groupOther Importance: 0.0\n",
      "Variable: bmt_marketMature     Importance: 0.0\n",
      "Variable: bmt_channeleStore    Importance: 0.0\n",
      "Variable: bmt_channelIndirect  Importance: 0.0\n",
      "Variable: bmt_billing_term     Importance: 0.0\n",
      "Variable: bmt_offer_type_subgroupProduct Subs New SU Importance: 0.0\n",
      "Variable: contract_term3-Year  Importance: 0.0\n",
      "Variable: contract_termAnnual  Importance: 0.0\n",
      "Variable: billing_behaviorRenewable Importance: 0.0\n",
      "Variable: deploymentNetworked  Importance: 0.0\n",
      "Variable: deploymentSession Specific Network Importance: 0.0\n",
      "Variable: channel_partner_typeEnd Customer Importance: 0.0\n",
      "Variable: channel_partner_typeISV Bundle Importance: 0.0\n",
      "Variable: channel_partner_typeReseller Importance: 0.0\n",
      "Variable: channel_partner_typeStrategic Account Importance: 0.0\n",
      "Variable: owner_typeCONTACT    Importance: 0.0\n",
      "Variable: account_type_nameEnd Customer Importance: 0.0\n",
      "Variable: account_type_nameGovernment Importance: 0.0\n",
      "Variable: account_type_nameReseller Importance: 0.0\n",
      "Variable: account_type_nameStrategic Account Importance: 0.0\n",
      "Variable: named_account_flg    Importance: 0.0\n",
      "Variable: parent_named_account_flg Importance: 0.0\n",
      "Variable: geo_cdAPAC           Importance: 0.0\n",
      "Variable: geo_cdEMEA           Importance: 0.0\n",
      "Variable: country_codeAI       Importance: 0.0\n",
      "Variable: country_codeAR       Importance: 0.0\n",
      "Variable: country_codeAT       Importance: 0.0\n",
      "Variable: country_codeAU       Importance: 0.0\n",
      "Variable: country_codeAW       Importance: 0.0\n",
      "Variable: country_codeAZ       Importance: 0.0\n",
      "Variable: country_codeBD       Importance: 0.0\n",
      "Variable: country_codeBE       Importance: 0.0\n",
      "Variable: country_codeBG       Importance: 0.0\n",
      "Variable: country_codeBH       Importance: 0.0\n",
      "Variable: country_codeBO       Importance: 0.0\n",
      "Variable: country_codeBR       Importance: 0.0\n",
      "Variable: country_codeBW       Importance: 0.0\n",
      "Variable: country_codeCA       Importance: 0.0\n",
      "Variable: country_codeCH       Importance: 0.0\n",
      "Variable: country_codeCL       Importance: 0.0\n",
      "Variable: country_codeCM       Importance: 0.0\n",
      "Variable: country_codeCN       Importance: 0.0\n",
      "Variable: country_codeCO       Importance: 0.0\n",
      "Variable: country_codeCR       Importance: 0.0\n",
      "Variable: country_codeCY       Importance: 0.0\n",
      "Variable: country_codeCZ       Importance: 0.0\n",
      "Variable: country_codeDE       Importance: 0.0\n",
      "Variable: country_codeDK       Importance: 0.0\n",
      "Variable: country_codeDO       Importance: 0.0\n",
      "Variable: country_codeEC       Importance: 0.0\n",
      "Variable: country_codeEE       Importance: 0.0\n",
      "Variable: country_codeEG       Importance: 0.0\n",
      "Variable: country_codeES       Importance: 0.0\n",
      "Variable: country_codeFI       Importance: 0.0\n",
      "Variable: country_codeFJ       Importance: 0.0\n",
      "Variable: country_codeFO       Importance: 0.0\n",
      "Variable: country_codeFR       Importance: 0.0\n",
      "Variable: country_codeGA       Importance: 0.0\n",
      "Variable: country_codeGB       Importance: 0.0\n",
      "Variable: country_codeGF       Importance: 0.0\n",
      "Variable: country_codeGH       Importance: 0.0\n",
      "Variable: country_codeGR       Importance: 0.0\n",
      "Variable: country_codeGT       Importance: 0.0\n",
      "Variable: country_codeHK       Importance: 0.0\n",
      "Variable: country_codeHN       Importance: 0.0\n",
      "Variable: country_codeHR       Importance: 0.0\n",
      "Variable: country_codeHU       Importance: 0.0\n",
      "Variable: country_codeID       Importance: 0.0\n",
      "Variable: country_codeIE       Importance: 0.0\n",
      "Variable: country_codeIL       Importance: 0.0\n",
      "Variable: country_codeIN       Importance: 0.0\n",
      "Variable: country_codeIS       Importance: 0.0\n",
      "Variable: country_codeIT       Importance: 0.0\n",
      "Variable: country_codeJM       Importance: 0.0\n",
      "Variable: country_codeJO       Importance: 0.0\n",
      "Variable: country_codeJP       Importance: 0.0\n",
      "Variable: country_codeKE       Importance: 0.0\n",
      "Variable: country_codeKR       Importance: 0.0\n",
      "Variable: country_codeKW       Importance: 0.0\n",
      "Variable: country_codeKZ       Importance: 0.0\n",
      "Variable: country_codeLB       Importance: 0.0\n",
      "Variable: country_codeLK       Importance: 0.0\n",
      "Variable: country_codeLT       Importance: 0.0\n",
      "Variable: country_codeLU       Importance: 0.0\n",
      "Variable: country_codeLV       Importance: 0.0\n",
      "Variable: country_codeMC       Importance: 0.0\n",
      "Variable: country_codeMD       Importance: 0.0\n",
      "Variable: country_codeMK       Importance: 0.0\n",
      "Variable: country_codeMT       Importance: 0.0\n",
      "Variable: country_codeMU       Importance: 0.0\n",
      "Variable: country_codeMX       Importance: 0.0\n",
      "Variable: country_codeMY       Importance: 0.0\n",
      "Variable: country_codeMZ       Importance: 0.0\n",
      "Variable: country_codeNC       Importance: 0.0\n",
      "Variable: country_codeNG       Importance: 0.0\n",
      "Variable: country_codeNL       Importance: 0.0\n",
      "Variable: country_codeNO       Importance: 0.0\n",
      "Variable: country_codeNZ       Importance: 0.0\n",
      "Variable: country_codeOM       Importance: 0.0\n",
      "Variable: country_codePA       Importance: 0.0\n",
      "Variable: country_codePE       Importance: 0.0\n",
      "Variable: country_codePH       Importance: 0.0\n",
      "Variable: country_codePK       Importance: 0.0\n",
      "Variable: country_codePL       Importance: 0.0\n",
      "Variable: country_codePT       Importance: 0.0\n",
      "Variable: country_codeQA       Importance: 0.0\n",
      "Variable: country_codeRE       Importance: 0.0\n",
      "Variable: country_codeRO       Importance: 0.0\n",
      "Variable: country_codeRS       Importance: 0.0\n",
      "Variable: country_codeRU       Importance: 0.0\n",
      "Variable: country_codeSA       Importance: 0.0\n",
      "Variable: country_codeSE       Importance: 0.0\n",
      "Variable: country_codeSG       Importance: 0.0\n",
      "Variable: country_codeSI       Importance: 0.0\n",
      "Variable: country_codeSK       Importance: 0.0\n",
      "Variable: country_codeTH       Importance: 0.0\n",
      "Variable: country_codeTR       Importance: 0.0\n",
      "Variable: country_codeTW       Importance: 0.0\n",
      "Variable: country_codeTZ       Importance: 0.0\n",
      "Variable: country_codeUA       Importance: 0.0\n",
      "Variable: country_codeUS       Importance: 0.0\n",
      "Variable: country_codeUY       Importance: 0.0\n",
      "Variable: country_codeVN       Importance: 0.0\n",
      "Variable: country_codeXK       Importance: 0.0\n",
      "Variable: country_codeZA       Importance: 0.0\n",
      "Variable: hier_industry_group_nameEDU Importance: 0.0\n",
      "Variable: hier_industry_group_nameM&E Importance: 0.0\n",
      "Variable: hier_industry_group_nameMulti AEC Lead Importance: 0.0\n",
      "Variable: hier_industry_group_nameMulti EDU Lead Importance: 0.0\n",
      "Variable: hier_industry_group_nameMulti M&E Lead Importance: 0.0\n",
      "Variable: hier_industry_group_nameMulti MFG Lead Importance: 0.0\n",
      "Variable: hier_industry_group_nameMulti OTH Lead Importance: 0.0\n",
      "Variable: hier_industry_group_nameMulti Unknown Lead Importance: 0.0\n",
      "Variable: hier_industry_group_nameOTH Importance: 0.0\n",
      "Variable: hier_industry_group_nameUnknown Importance: 0.0\n",
      "Variable: customer_size_codeSMB Importance: 0.0\n",
      "Variable: customer_size_codeUNK Importance: 0.0\n",
      "Variable: customer_size_codeVSB Importance: 0.0\n",
      "Variable: acdlt_only           Importance: 0.0\n",
      "Variable: car_days_used_since_agreement_start_channel_partner_csn Importance: 0.0\n",
      "Variable: car_pct_days_used_since_agreement_start_channel_partner_csn Importance: 0.0\n",
      "Variable: car_pings_since_agreement_start_channel_partner_csn Importance: 0.0\n",
      "Variable: car_used_in_last_7_days_channel_partner_csn Importance: 0.0\n",
      "Variable: car_used_in_previous_one_month_channel_partner_csn Importance: 0.0\n",
      "Variable: car_used_in_previous_three_months_channel_partner_csn Importance: 0.0\n",
      "Variable: car_days_used_in_last_7_days_channel_partner_csn Importance: 0.0\n",
      "Variable: car_pings_in_last_7_days_channel_partner_csn Importance: 0.0\n",
      "Variable: car_days_used_in_previous_one_month_channel_partner_csn Importance: 0.0\n",
      "Variable: car_pings_in_previous_one_month_channel_partner_csn Importance: 0.0\n",
      "Variable: car_days_used_in_previous_second_month_channel_partner_csn Importance: 0.0\n",
      "Variable: car_pings_in_previous_second_month_channel_partner_csn Importance: 0.0\n",
      "Variable: car_days_used_in_previous_third_month_channel_partner_csn Importance: 0.0\n",
      "Variable: car_pings_in_previous_third_month_channel_partner_csn Importance: 0.0\n",
      "Variable: car_days_used_in_previous_fourth_month_channel_partner_csn Importance: 0.0\n",
      "Variable: car_pings_in_previous_fourth_month_channel_partner_csn Importance: 0.0\n",
      "Variable: car_days_used_since_agreement_start_country_code Importance: 0.0\n",
      "Variable: car_pct_days_used_since_agreement_start_country_code Importance: 0.0\n",
      "Variable: car_pings_since_agreement_start_country_code Importance: 0.0\n",
      "Variable: car_used_in_last_7_days_country_code Importance: 0.0\n",
      "Variable: car_used_in_previous_one_month_country_code Importance: 0.0\n",
      "Variable: car_used_in_previous_three_months_country_code Importance: 0.0\n",
      "Variable: car_days_used_in_last_7_days_country_code Importance: 0.0\n",
      "Variable: car_pings_in_last_7_days_country_code Importance: 0.0\n",
      "Variable: car_days_used_in_previous_one_month_country_code Importance: 0.0\n",
      "Variable: car_pings_in_previous_one_month_country_code Importance: 0.0\n",
      "Variable: car_days_used_in_previous_second_month_country_code Importance: 0.0\n",
      "Variable: car_pings_in_previous_second_month_country_code Importance: 0.0\n",
      "Variable: car_days_used_in_previous_third_month_country_code Importance: 0.0\n",
      "Variable: car_pings_in_previous_third_month_country_code Importance: 0.0\n",
      "Variable: car_days_used_in_previous_fourth_month_country_code Importance: 0.0\n",
      "Variable: car_pings_in_previous_fourth_month_country_code Importance: 0.0\n",
      "Variable: discount_rate_country_code Importance: 0.0\n",
      "Variable: active_registered_seat_sum_country Importance: 0.0\n"
     ]
    }
   ],
   "source": [
    "# Get numerical feature importances\n",
    "importances = list(rf.feature_importances_)\n",
    "# List of tuples with variable and importance\n",
    "feature_importances = [(feature, round(importance, 2)) for feature, importance in zip(feature_list, importances)]\n",
    "# Sort the feature importances by most important first\n",
    "feature_importances = sorted(feature_importances, key = lambda x: x[1], reverse = True)\n",
    "# Print out the feature and importances \n",
    "[print('Variable: {:20} Importance: {}'.format(*pair)) for pair in feature_importances];"
   ]
  },
  {
   "cell_type": "code",
   "execution_count": null,
   "metadata": {
    "collapsed": true
   },
   "outputs": [],
   "source": [
    "names = [\"car_pings_since_agreement_start_channel_partner_csn\", \"car_pings_since_agreement_start_country_code\", \"discount_rate\",  \"renewal_rate\", \"parent_named_account_flg\", \"named_account_flg\", \"self_parented\", \"bmt_product_group\", \"customer_size_code\", \"country_code\", \"billing_behavior\", \"bmt_channel\", \"uuid_age_days\", \"days_since_order_created\", \"uuid_seats_on_active_subs\" , \"active_registered_seat_sum\" , \"srp_billed_usd\" , \"parent_owner_uuid_count\" , \"hier_industry_group_name\" , \"active_registered_seat_sum_partner\"]"
   ]
  },
  {
   "cell_type": "code",
   "execution_count": 116,
   "metadata": {},
   "outputs": [
    {
     "data": {
      "image/png": "[encoded data removed]",
      "text/plain": [
       "<matplotlib.figure.Figure at 0x1d11bcb5518>"
      ]
     },
     "metadata": {},
     "output_type": "display_data"
    }
   ],
   "source": [
    "plt.plot([0, 1], [0, 1], color='navy', lw=lw, linestyle='--')\n",
    "plt.plot(fpr[2], tpr[2], label='random forest')\n",
    "plt.plot(fpr_bdt[2], tpr_bdt[2], label='Bagged Decision Trees')\n",
    "plt.plot(fpr_et[2], tpr_et[2], label='Extra Trees')\n",
    "plt.plot(fpr_ab[2], tpr_ab[2], label='AdaBoost')\n",
    "plt.plot(fpr_sgb[2], tpr_sgb[2], label='Stochastic Gradient Boosting')\n",
    "plt.xlim([0.0, 1.0])\n",
    "plt.ylim([0.0, 1.05])\n",
    "plt.xlabel('False positive rate')\n",
    "plt.ylabel('True positive rate')\n",
    "plt.title('ROC curve')\n",
    "plt.legend(loc='best')\n",
    "plt.show()"
   ]
  },
  {
   "cell_type": "markdown",
   "metadata": {},
   "source": [
    "# 2. Bagged Decision Trees"
   ]
  },
  {
   "cell_type": "code",
   "execution_count": 22,
   "metadata": {
    "collapsed": true
   },
   "outputs": [],
   "source": [
    "seed = 42\n",
    "kfold = model_selection.KFold(n_splits=10, random_state=seed)\n",
    "cart = DecisionTreeClassifier(max_depth=5)\n",
    "num_trees = 1000\n",
    "bdt = BaggingClassifier(base_estimator=cart, n_estimators=num_trees, random_state=seed)\n",
    "# Train the model on training data\n",
    "bdt.fit(train_features, train_labels);\n",
    "y_pred_bdt = bdt.predict_proba(test_features)"
   ]
  },
  {
   "cell_type": "code",
   "execution_count": 23,
   "metadata": {},
   "outputs": [
    {
     "data": {
      "text/plain": [
       "0.72251725969198088"
      ]
     },
     "execution_count": 23,
     "metadata": {},
     "output_type": "execute_result"
    }
   ],
   "source": [
    "predictions = bdt.predict(test_features)\n",
    "accuracy_score(predictions, test_labels)"
   ]
  },
  {
   "cell_type": "code",
   "execution_count": 125,
   "metadata": {},
   "outputs": [
    {
     "name": "stdout",
     "output_type": "stream",
     "text": [
      "0.714020260737\n"
     ]
    }
   ],
   "source": [
    "results = model_selection.cross_val_score(bdt, test_features, test_labels, cv=kfold)\n",
    "print(results.mean())"
   ]
  },
  {
   "cell_type": "code",
   "execution_count": 112,
   "metadata": {
    "collapsed": true
   },
   "outputs": [],
   "source": [
    "# Compute ROC curve and ROC area for each class\n",
    "#classifier = OneVsRestClassifier(RandomForestClassifier(n_estimators = 1000, random_state = 42))\n",
    "#y_score = classifier.fit(train_features, train_labels).decision_function(test_features)\n",
    "fpr_bdt = dict()\n",
    "tpr_bdt = dict()\n",
    "roc_auc_bdt = dict()\n",
    "for i in range(n_classes):\n",
    "    fpr_bdt[i], tpr_bdt[i], _ = roc_curve(test_labels[:,i], y_pred_bdt[:,i])\n",
    "    roc_auc_bdt[i] = auc(fpr_bdt[i], tpr_bdt[i])\n",
    "\n",
    "# Compute micro-average ROC curve and ROC area\n",
    "fpr_bdt[\"micro\"], tpr_bdt[\"micro\"], _ = roc_curve(test_Y.ravel(), y_pred_rf.ravel())\n",
    "roc_auc_bdt[\"micro\"] = auc(fpr_bdt[\"micro\"], tpr_bdt[\"micro\"])"
   ]
  },
  {
   "cell_type": "markdown",
   "metadata": {},
   "source": [
    "# 3. Extra Trees"
   ]
  },
  {
   "cell_type": "code",
   "execution_count": 24,
   "metadata": {
    "collapsed": true
   },
   "outputs": [],
   "source": [
    "seed = 42\n",
    "num_trees = 1000\n",
    "max_features = 15\n",
    "kfold = model_selection.KFold(n_splits=10, random_state=seed)\n",
    "et = ExtraTreesClassifier(n_estimators=num_trees, max_features=max_features)\n",
    "# Train the model on training data\n",
    "et.fit(train_features, train_labels);\n",
    "y_pred_et = et.predict_proba(test_features)"
   ]
  },
  {
   "cell_type": "code",
   "execution_count": 25,
   "metadata": {},
   "outputs": [
    {
     "data": {
      "text/plain": [
       "0.70817843866171004"
      ]
     },
     "execution_count": 25,
     "metadata": {},
     "output_type": "execute_result"
    }
   ],
   "source": [
    "predictions = et.predict(test_features)\n",
    "accuracy_score(predictions, test_labels)"
   ]
  },
  {
   "cell_type": "code",
   "execution_count": 126,
   "metadata": {},
   "outputs": [
    {
     "name": "stdout",
     "output_type": "stream",
     "text": [
      "0.687476014448\n"
     ]
    }
   ],
   "source": [
    "results = model_selection.cross_val_score(et, test_features, test_labels, cv=kfold)\n",
    "print(results.mean())"
   ]
  },
  {
   "cell_type": "code",
   "execution_count": 113,
   "metadata": {
    "collapsed": true
   },
   "outputs": [],
   "source": [
    "# Compute ROC curve and ROC area for each class\n",
    "#classifier = OneVsRestClassifier(RandomForestClassifier(n_estimators = 1000, random_state = 42))\n",
    "#y_score = classifier.fit(train_features, train_labels).decision_function(test_features)\n",
    "fpr_et = dict()\n",
    "tpr_et = dict()\n",
    "roc_auc_et = dict()\n",
    "for i in range(n_classes):\n",
    "    fpr_et[i], tpr_et[i], _ = roc_curve(test_labels[:,i], y_pred_et[:,i])\n",
    "    roc_auc_et[i] = auc(fpr_et[i], tpr_et[i])\n",
    "\n",
    "# Compute micro-average ROC curve and ROC area\n",
    "fpr_et[\"micro\"], tpr_et[\"micro\"], _ = roc_curve(test_Y.ravel(), y_pred_rf.ravel())\n",
    "roc_auc_et[\"micro\"] = auc(fpr_et[\"micro\"], tpr_et[\"micro\"])"
   ]
  },
  {
   "cell_type": "code",
   "execution_count": 120,
   "metadata": {},
   "outputs": [
    {
     "data": {
      "image/png": "[encoded data removed]",
      "text/plain": [
       "<matplotlib.figure.Figure at 0x1d11d6cec88>"
      ]
     },
     "metadata": {},
     "output_type": "display_data"
    }
   ],
   "source": [
    "plt.figure()\n",
    "lw = 2\n",
    "plt.plot(fpr_et[2], tpr_et[2], lw=lw, label='high activation label')\n",
    "plt.plot(fpr_et[0], tpr_et[0], lw=lw, label='low activation label')\n",
    "plt.plot(fpr_et[1], tpr_et[1], lw=lw, label='medium activation label')\n",
    "plt.plot([0, 1], [0, 1], color='navy', lw=lw, linestyle='--')\n",
    "plt.xlim([0.0, 1.0])\n",
    "plt.ylim([0.0, 1.05])\n",
    "plt.xlabel('False Positive Rate')\n",
    "plt.ylabel('True Positive Rate')\n",
    "plt.title('ROC for Extra Trees')\n",
    "plt.legend(loc=\"lower right\")\n",
    "plt.show()"
   ]
  },
  {
   "cell_type": "markdown",
   "metadata": {},
   "source": [
    "# 4. AdaBoost"
   ]
  },
  {
   "cell_type": "code",
   "execution_count": 26,
   "metadata": {
    "collapsed": true
   },
   "outputs": [],
   "source": [
    "seed = 42\n",
    "num_trees = 1000\n",
    "kfold = model_selection.KFold(n_splits=10, random_state=seed)\n",
    "ab = AdaBoostClassifier(n_estimators=num_trees, random_state=seed)\n",
    "# Train the model on training data\n",
    "ab.fit(train_features, train_labels);\n",
    "y_pred_ab = ab.predict_proba(test_features)"
   ]
  },
  {
   "cell_type": "code",
   "execution_count": 27,
   "metadata": {},
   "outputs": [
    {
     "data": {
      "text/plain": [
       "0.70817843866171004"
      ]
     },
     "execution_count": 27,
     "metadata": {},
     "output_type": "execute_result"
    }
   ],
   "source": [
    "predictions = et.predict(test_features)\n",
    "accuracy_score(predictions, test_labels)"
   ]
  },
  {
   "cell_type": "code",
   "execution_count": 127,
   "metadata": {},
   "outputs": [
    {
     "name": "stdout",
     "output_type": "stream",
     "text": [
      "0.502640527118\n"
     ]
    }
   ],
   "source": [
    "results = model_selection.cross_val_score(ab, test_features, test_labels, cv=kfold)\n",
    "print(results.mean())"
   ]
  },
  {
   "cell_type": "code",
   "execution_count": 114,
   "metadata": {
    "collapsed": true
   },
   "outputs": [],
   "source": [
    "# Compute ROC curve and ROC area for each class\n",
    "#classifier = OneVsRestClassifier(RandomForestClassifier(n_estimators = 1000, random_state = 42))\n",
    "#y_score = classifier.fit(train_features, train_labels).decision_function(test_features)\n",
    "fpr_ab = dict()\n",
    "tpr_ab = dict()\n",
    "roc_auc_ab = dict()\n",
    "for i in range(n_classes):\n",
    "    fpr_ab[i], tpr_ab[i], _ = roc_curve(test_labels[:,i], y_pred_ab[:,i])\n",
    "    roc_auc_ab[i] = auc(fpr_ab[i], tpr_ab[i])\n",
    "\n",
    "# Compute micro-average ROC curve and ROC area\n",
    "fpr_ab[\"micro\"], tpr_ab[\"micro\"], _ = roc_curve(test_Y.ravel(), y_pred_rf.ravel())\n",
    "roc_auc_ab[\"micro\"] = auc(fpr_ab[\"micro\"], tpr_ab[\"micro\"])"
   ]
  },
  {
   "cell_type": "markdown",
   "metadata": {},
   "source": [
    "# 5. Stochastic Gradient Boosting"
   ]
  },
  {
   "cell_type": "code",
   "execution_count": 23,
   "metadata": {
    "collapsed": true
   },
   "outputs": [],
   "source": [
    "seed = 42\n",
    "num_trees =1000\n",
    "kfold = model_selection.KFold(n_splits=10, random_state=seed)\n",
    "sgb = GradientBoostingClassifier(n_estimators=num_trees, random_state=seed)\n",
    "# Train the model on training data\n",
    "sgb.fit(train_features, train_labels);\n",
    "y_pred_sgb = sgb.predict_proba(test_features)"
   ]
  },
  {
   "cell_type": "code",
   "execution_count": 24,
   "metadata": {},
   "outputs": [
    {
     "data": {
      "text/plain": [
       "0.72012745618693574"
      ]
     },
     "execution_count": 24,
     "metadata": {},
     "output_type": "execute_result"
    }
   ],
   "source": [
    "predictions = sgb.predict(test_features)\n",
    "accuracy_score(predictions, test_labels)"
   ]
  },
  {
   "cell_type": "code",
   "execution_count": 25,
   "metadata": {
    "collapsed": true
   },
   "outputs": [],
   "source": [
    "cm = confusion_matrix(test_labels, predictions)"
   ]
  },
  {
   "cell_type": "code",
   "execution_count": 26,
   "metadata": {},
   "outputs": [
    {
     "data": {
      "image/png": "[encoded data removed]",
      "text/plain": [
       "<matplotlib.figure.Figure at 0x1749e2e59b0>"
      ]
     },
     "metadata": {},
     "output_type": "display_data"
    }
   ],
   "source": [
    "plot_confusion_matrix(cm           = cm, \n",
    "                      normalize    = False,\n",
    "                      target_names = ['low', 'medium', 'high'],\n",
    "                      title        = \"Confusion Matrix\")"
   ]
  },
  {
   "cell_type": "code",
   "execution_count": 115,
   "metadata": {
    "collapsed": true
   },
   "outputs": [],
   "source": [
    "# Compute ROC curve and ROC area for each class\n",
    "#classifier = OneVsRestClassifier(RandomForestClassifier(n_estimators = 1000, random_state = 42))\n",
    "#y_score = classifier.fit(train_features, train_labels).decision_function(test_features)\n",
    "fpr_sgb = dict()\n",
    "tpr_sgb = dict()\n",
    "roc_auc_sgb = dict()\n",
    "for i in range(n_classes):\n",
    "    fpr_sgb[i], tpr_sgb[i], _ = roc_curve(test_labels[:,i], y_pred_sgb[:,i])\n",
    "    roc_auc_sgb[i] = auc(fpr_sgb[i], tpr_sgb[i])\n",
    "\n",
    "# Compute micro-average ROC curve and ROC area\n",
    "fpr_sgb[\"micro\"], tpr_sgb[\"micro\"], _ = roc_curve(test_Y.ravel(), y_pred_rf.ravel())\n",
    "roc_auc_sgb[\"micro\"] = auc(fpr_sgb[\"micro\"], tpr_sgb[\"micro\"])"
   ]
  },
  {
   "cell_type": "markdown",
   "metadata": {},
   "source": [
    "# run ROC for high activation rate group"
   ]
  },
  {
   "cell_type": "code",
   "execution_count": 118,
   "metadata": {},
   "outputs": [
    {
     "data": {
      "image/png": "[encoded data removed]",
      "text/plain": [
       "<matplotlib.figure.Figure at 0x1d11bd6ae48>"
      ]
     },
     "metadata": {},
     "output_type": "display_data"
    }
   ],
   "source": [
    "plt.figure()\n",
    "lw = 2\n",
    "plt.plot(fpr_sgb[2], tpr_sgb[2], lw=lw, label='high activation label')\n",
    "plt.plot(fpr_sgb[0], tpr_sgb[0], lw=lw, label='low activation label')\n",
    "plt.plot(fpr_sgb[1], tpr_sgb[1], lw=lw, label='medium activation label')\n",
    "plt.plot([0, 1], [0, 1], color='navy', lw=lw, linestyle='--')\n",
    "plt.xlim([0.0, 1.0])\n",
    "plt.ylim([0.0, 1.05])\n",
    "plt.xlabel('False Positive Rate')\n",
    "plt.ylabel('True Positive Rate')\n",
    "plt.title('Receiver operating characteristic Stochastic Gradient Boosting')\n",
    "plt.legend(loc=\"lower right\")\n",
    "plt.show()"
   ]
  }
 ],
 "metadata": {
  "kernelspec": {
   "display_name": "Python 3",
   "language": "python",
   "name": "python3"
  },
  "language_info": {
   "codemirror_mode": {
    "name": "ipython",
    "version": 3
   },
   "file_extension": ".py",
   "mimetype": "text/x-python",
   "name": "python",
   "nbconvert_exporter": "python",
   "pygments_lexer": "ipython3",
   "version": "3.6.2"
  }
 },
 "nbformat": 4,
 "nbformat_minor": 2
}
