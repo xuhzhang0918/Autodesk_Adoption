{
 "cells": [
  {
   "cell_type": "code",
   "execution_count": 2,
   "metadata": {
    "collapsed": true
   },
   "outputs": [],
   "source": [
    "from sklearn.ensemble import RandomForestClassifier\n",
    "from sklearn.datasets import make_classification\n",
    "from sklearn.metrics import roc_curve, auc\n",
    "from sklearn.model_selection import train_test_split\n",
    "from sklearn.preprocessing import label_binarize\n",
    "from sklearn.multiclass import OneVsRestClassifier\n",
    "import pandas as pd\n",
    "import numpy as np\n",
    "from sklearn.model_selection import train_test_split\n",
    "from sklearn.tree import export_graphviz\n",
    "from sklearn.metrics import accuracy_score\n",
    "import matplotlib.pyplot as plt\n",
    "%matplotlib inline\n",
    "#!pip install pydot>=1.2.4\n",
    "import pydot\n",
    "#!pip install pydotplus\n",
    "import pydotplus\n",
    "from IPython.display import Image\n",
    "from sklearn.metrics import roc_curve, auc\n",
    "from sklearn.preprocessing import label_binarize\n",
    "from itertools import cycle\n",
    "from sklearn import svm, datasets\n",
    "from scipy import interp\n",
    "from sklearn.preprocessing import OneHotEncoder\n",
    "from sklearn import model_selection\n",
    "from sklearn.ensemble import BaggingClassifier\n",
    "from sklearn.tree import DecisionTreeClassifier\n",
    "from sklearn.ensemble import ExtraTreesClassifier\n",
    "from sklearn.ensemble import AdaBoostClassifier\n",
    "from sklearn.ensemble import GradientBoostingClassifier\n",
    "import time\n",
    "from mlxtend.feature_selection import SequentialFeatureSelector as SFS"
   ]
  },
  {
   "cell_type": "code",
   "execution_count": 3,
   "metadata": {
    "collapsed": true
   },
   "outputs": [],
   "source": [
    "features = pd.read_csv(\"picked_features.csv\")"
   ]
  },
  {
   "cell_type": "code",
   "execution_count": 4,
   "metadata": {},
   "outputs": [
    {
     "data": {
      "text/plain": [
       "['percentage_reg_seats_activated',\n",
       " 'bmt_product_groupIC/Suites',\n",
       " 'bmt_product_groupLT Family',\n",
       " 'bmt_product_groupOther',\n",
       " 'uuid_age_days',\n",
       " 'days_since_order_created',\n",
       " 'uuid_seats_on_active_subs',\n",
       " 'active_registered_seat_sum',\n",
       " 'discount_rate',\n",
       " 'srp_billed_usd',\n",
       " 'parent_owner_uuid_count',\n",
       " 'percentage_reg_seats_activated_channel_partner_csn',\n",
       " 'sf_subscription_seats_billed',\n",
       " 'deploymentNetworked',\n",
       " 'deploymentSession Specific Network',\n",
       " 'deploymentStandalone',\n",
       " 'renewal_rate',\n",
       " 'self_parented',\n",
       " 'hier_industry_group_nameEDU',\n",
       " 'hier_industry_group_nameM&E',\n",
       " 'hier_industry_group_nameMFG',\n",
       " 'hier_industry_group_nameMulti AEC Lead',\n",
       " 'hier_industry_group_nameMulti EDU Lead',\n",
       " 'hier_industry_group_nameMulti M&E Lead',\n",
       " 'hier_industry_group_nameMulti MFG Lead',\n",
       " 'hier_industry_group_nameMulti OTH Lead',\n",
       " 'hier_industry_group_nameMulti Unknown Lead',\n",
       " 'hier_industry_group_nameOTH',\n",
       " 'hier_industry_group_nameUnknown',\n",
       " 'discount_rate_channel_partner_csn',\n",
       " 'percentage_reg_seats_activated_country_code',\n",
       " 'active_registered_seat_sum_partner',\n",
       " 'order_sourceSAP',\n",
       " 'order_typeGOR',\n",
       " 'order_typeL2',\n",
       " 'order_typeNew Acquisition',\n",
       " 'order_typeRE',\n",
       " 'order_typeZOLT',\n",
       " 'bmt_marketMature',\n",
       " 'bmt_channeleStore',\n",
       " 'bmt_channelIndirect',\n",
       " 'bmt_offer_type_subgroupProduct Subs New SU',\n",
       " 'bmt_billing_term',\n",
       " 'billing_behaviorRenewable',\n",
       " 'country_codeAI',\n",
       " 'country_codeAR',\n",
       " 'country_codeAT',\n",
       " 'country_codeAU',\n",
       " 'country_codeAW',\n",
       " 'country_codeAZ',\n",
       " 'country_codeBD',\n",
       " 'country_codeBE',\n",
       " 'country_codeBG',\n",
       " 'country_codeBH',\n",
       " 'country_codeBO',\n",
       " 'country_codeBR',\n",
       " 'country_codeBW',\n",
       " 'country_codeCA',\n",
       " 'country_codeCH',\n",
       " 'country_codeCL',\n",
       " 'country_codeCM',\n",
       " 'country_codeCN',\n",
       " 'country_codeCO',\n",
       " 'country_codeCR',\n",
       " 'country_codeCY',\n",
       " 'country_codeCZ',\n",
       " 'country_codeDE',\n",
       " 'country_codeDK',\n",
       " 'country_codeDO',\n",
       " 'country_codeEC',\n",
       " 'country_codeEE',\n",
       " 'country_codeEG',\n",
       " 'country_codeES',\n",
       " 'country_codeFI',\n",
       " 'country_codeFJ',\n",
       " 'country_codeFO',\n",
       " 'country_codeFR',\n",
       " 'country_codeGA',\n",
       " 'country_codeGB',\n",
       " 'country_codeGF',\n",
       " 'country_codeGH',\n",
       " 'country_codeGR',\n",
       " 'country_codeGT',\n",
       " 'country_codeHK',\n",
       " 'country_codeHN',\n",
       " 'country_codeHR',\n",
       " 'country_codeHU',\n",
       " 'country_codeID',\n",
       " 'country_codeIE',\n",
       " 'country_codeIL',\n",
       " 'country_codeIN',\n",
       " 'country_codeIS',\n",
       " 'country_codeIT',\n",
       " 'country_codeJM',\n",
       " 'country_codeJO',\n",
       " 'country_codeJP',\n",
       " 'country_codeKE',\n",
       " 'country_codeKR',\n",
       " 'country_codeKW',\n",
       " 'country_codeKZ',\n",
       " 'country_codeLB',\n",
       " 'country_codeLK',\n",
       " 'country_codeLT',\n",
       " 'country_codeLU',\n",
       " 'country_codeLV',\n",
       " 'country_codeMC',\n",
       " 'country_codeMD',\n",
       " 'country_codeMK',\n",
       " 'country_codeMT',\n",
       " 'country_codeMU',\n",
       " 'country_codeMX',\n",
       " 'country_codeMY',\n",
       " 'country_codeMZ',\n",
       " 'country_codeNC',\n",
       " 'country_codeNG',\n",
       " 'country_codeNL',\n",
       " 'country_codeNO',\n",
       " 'country_codeNZ',\n",
       " 'country_codeOM',\n",
       " 'country_codePA',\n",
       " 'country_codePE',\n",
       " 'country_codePH',\n",
       " 'country_codePK',\n",
       " 'country_codePL',\n",
       " 'country_codePT',\n",
       " 'country_codeQA',\n",
       " 'country_codeRE',\n",
       " 'country_codeRO',\n",
       " 'country_codeRS',\n",
       " 'country_codeRU',\n",
       " 'country_codeSA',\n",
       " 'country_codeSE',\n",
       " 'country_codeSG',\n",
       " 'country_codeSI',\n",
       " 'country_codeSK',\n",
       " 'country_codeTH',\n",
       " 'country_codeTR',\n",
       " 'country_codeTW',\n",
       " 'country_codeTZ',\n",
       " 'country_codeUA',\n",
       " 'country_codeUS',\n",
       " 'country_codeUY',\n",
       " 'country_codeVN',\n",
       " 'country_codeXK',\n",
       " 'country_codeZA',\n",
       " 'customer_size_codeSMB',\n",
       " 'customer_size_codeUNK',\n",
       " 'customer_size_codeVSB',\n",
       " 'car_pings_since_agreement_start_channel_partner_csn',\n",
       " 'car_pings_since_agreement_start_country_code',\n",
       " 'parent_named_account_flg',\n",
       " 'named_account_flg',\n",
       " 'activation_label']"
      ]
     },
     "execution_count": 4,
     "metadata": {},
     "output_type": "execute_result"
    }
   ],
   "source": [
    "feature_list = list(features.columns)\n",
    "feature_list"
   ]
  },
  {
   "cell_type": "code",
   "execution_count": 4,
   "metadata": {},
   "outputs": [
    {
     "data": {
      "text/plain": [
       "153"
      ]
     },
     "execution_count": 4,
     "metadata": {},
     "output_type": "execute_result"
    }
   ],
   "source": [
    "len(feature_list)"
   ]
  },
  {
   "cell_type": "markdown",
   "metadata": {},
   "source": [
    "# Features and Targets and Convert Data to Arrays"
   ]
  },
  {
   "cell_type": "code",
   "execution_count": 5,
   "metadata": {
    "collapsed": true
   },
   "outputs": [],
   "source": [
    "# Labels are the values we want to predict\n",
    "labels = np.array(features['activation_label'])\n",
    "# Remove the labels from the features\n",
    "# axis 1 refers to the columns\n",
    "features= features.drop(['activation_label', 'percentage_reg_seats_activated'], axis = 1)\n",
    "#features= features.drop(car, axis = 1)"
   ]
  },
  {
   "cell_type": "code",
   "execution_count": 6,
   "metadata": {
    "collapsed": true
   },
   "outputs": [],
   "source": [
    "# Saving feature names for later use\n",
    "feature_list = list(features.columns)\n",
    "# Convert to numpy array\n",
    "features = np.array(features)"
   ]
  },
  {
   "cell_type": "code",
   "execution_count": 7,
   "metadata": {
    "collapsed": true
   },
   "outputs": [],
   "source": [
    "# Split the data into training and testing sets\n",
    "train_features, test_features, train_labels, test_labels = train_test_split(features, labels, test_size = 0.25, random_state = 38)"
   ]
  },
  {
   "cell_type": "markdown",
   "metadata": {},
   "source": [
    "# Gradient boosting"
   ]
  },
  {
   "cell_type": "markdown",
   "metadata": {},
   "source": [
    "### 1. Sequential backward selection"
   ]
  },
  {
   "cell_type": "code",
   "execution_count": null,
   "metadata": {
    "collapsed": true
   },
   "outputs": [],
   "source": [
    "start = time.time()\n",
    "kfold = model_selection.KFold(n_splits=10, random_state=38)\n",
    "gbr = GradientBoostingClassifier(n_estimators=10, random_state=38)\n",
    "results = model_selection.cross_val_score(gbr, test_features, test_labels, cv=kfold)\n",
    "sfs = SFS(gbr, \n",
    "          k_features=15, \n",
    "          forward=False, \n",
    "          floating=True, \n",
    "          scoring='accuracy',\n",
    "          cv=2,\n",
    "          n_jobs=-1)\n",
    "\n",
    "# Train the model on training data\n",
    "sfs= sfs.fit(train_features, train_labels)\n",
    "\n",
    "stop = time.time()\n",
    "\n",
    "print(stop - start)\n",
    "print('\\nSequential Forward Selection (k=10):')\n",
    "print(sfs.k_feature_idx_)\n",
    "print('CV Score:')\n",
    "print(sfs.k_score_)"
   ]
  },
  {
   "cell_type": "code",
   "execution_count": null,
   "metadata": {
    "collapsed": true
   },
   "outputs": [],
   "source": [
    "from mlxtend.plotting import plot_sequential_feature_selection as plot_sfs\n",
    "import matplotlib.pyplot as plt\n",
    "fig1 = plot_sfs(sfs.get_metric_dict(), kind='std_dev')\n",
    "\n",
    "plt.ylim([0.7, 0.722])\n",
    "plt.title('Sequential Forward Selection (w. StdDev)')\n",
    "plt.grid()\n",
    "plt.show()"
   ]
  },
  {
   "cell_type": "markdown",
   "metadata": {},
   "source": [
    "### 2. Sequential Forward Selection"
   ]
  },
  {
   "cell_type": "code",
   "execution_count": 41,
   "metadata": {},
   "outputs": [
    {
     "name": "stdout",
     "output_type": "stream",
     "text": [
      "1664.646432876587\n",
      "\n",
      "Sequential Forward Selection (k=10):\n",
      "(6, 10, 13, 19, 31, 34, 40, 43, 48, 53, 55, 59, 103, 107, 113)\n",
      "CV Score:\n",
      "0.719064873775\n"
     ]
    }
   ],
   "source": [
    "start = time.time()\n",
    "kfold = model_selection.KFold(n_splits=10, random_state=38)\n",
    "gbr = GradientBoostingClassifier(n_estimators=50, random_state=38)\n",
    "results = model_selection.cross_val_score(gbr, test_features, test_labels, cv=kfold)\n",
    "sfs = SFS(gbr, \n",
    "          k_features=15, \n",
    "          forward=True, \n",
    "          floating=True, \n",
    "          scoring='accuracy',\n",
    "          cv=2,\n",
    "          n_jobs=-1)\n",
    "\n",
    "# Train the model on training data\n",
    "sfs= sfs.fit(train_features, train_labels)\n",
    "\n",
    "stop = time.time()\n",
    "\n",
    "print(stop - start)\n",
    "print('\\nSequential Forward Selection (k=10):')\n",
    "print(sfs.k_feature_idx_)\n",
    "print('CV Score:')\n",
    "print(sfs.k_score_)"
   ]
  },
  {
   "cell_type": "code",
   "execution_count": 58,
   "metadata": {},
   "outputs": [
    {
     "data": {
      "image/png": "[encoded data removed]",
      "text/plain": [
       "<matplotlib.figure.Figure at 0x286869dff28>"
      ]
     },
     "metadata": {},
     "output_type": "display_data"
    }
   ],
   "source": [
    "from mlxtend.plotting import plot_sequential_feature_selection as plot_sfs\n",
    "import matplotlib.pyplot as plt\n",
    "fig1 = plot_sfs(sfs.get_metric_dict(), kind='std_dev')\n",
    "\n",
    "plt.ylim([0.7, 0.722])\n",
    "plt.title('Sequential Forward Selection (w. StdDev)')\n",
    "plt.grid()\n",
    "plt.show()"
   ]
  },
  {
   "cell_type": "code",
   "execution_count": 43,
   "metadata": {},
   "outputs": [
    {
     "data": {
      "text/plain": [
       "['active_registered_seat_sum',\n",
       " 'percentage_reg_seats_activated_channel_partner_csn',\n",
       " 'deploymentSession Specific Network',\n",
       " 'hier_industry_group_nameMFG',\n",
       " 'order_sourceSAP',\n",
       " 'order_typeNew Acquisition',\n",
       " 'bmt_offer_type_subgroupProduct Subs New SU',\n",
       " 'country_codeAI',\n",
       " 'country_codeAZ',\n",
       " 'country_codeBO',\n",
       " 'country_codeBW',\n",
       " 'country_codeCM',\n",
       " 'country_codeLV',\n",
       " 'country_codeMT',\n",
       " 'country_codeNG']"
      ]
     },
     "execution_count": 43,
     "metadata": {},
     "output_type": "execute_result"
    }
   ],
   "source": [
    "feature = []\n",
    "for index in sfs.k_feature_idx_:\n",
    "    feature.append(feature_list[index])\n",
    "feature"
   ]
  },
  {
   "cell_type": "code",
   "execution_count": 44,
   "metadata": {
    "collapsed": true
   },
   "outputs": [],
   "source": [
    "bullean_list = []\n",
    "for i in feature_list:\n",
    "    if i in feature:\n",
    "        bullean_list.append(True)\n",
    "    else:\n",
    "        bullean_list.append(False)        "
   ]
  },
  {
   "cell_type": "code",
   "execution_count": 45,
   "metadata": {},
   "outputs": [
    {
     "data": {
      "text/plain": [
       "array([[ 1.        ,  0.91061453,  0.        , ...,  0.        ,\n",
       "         0.        ,  0.        ],\n",
       "       [ 1.        ,  0.86111111,  0.        , ...,  0.        ,\n",
       "         0.        ,  0.        ],\n",
       "       [ 1.        ,  0.91061453,  0.        , ...,  0.        ,\n",
       "         0.        ,  0.        ],\n",
       "       ..., \n",
       "       [ 1.        ,  0.91061453,  0.        , ...,  0.        ,\n",
       "         0.        ,  0.        ],\n",
       "       [ 3.        ,  0.91061453,  0.        , ...,  0.        ,\n",
       "         0.        ,  0.        ],\n",
       "       [ 1.        ,  0.91061453,  0.        , ...,  0.        ,\n",
       "         0.        ,  0.        ]])"
      ]
     },
     "execution_count": 45,
     "metadata": {},
     "output_type": "execute_result"
    }
   ],
   "source": [
    "selections = np.array(bullean_list)\n",
    "selected = features[:, selections]\n",
    "selected"
   ]
  },
  {
   "cell_type": "code",
   "execution_count": 46,
   "metadata": {
    "collapsed": true
   },
   "outputs": [],
   "source": [
    "train_features, test_features, train_labels, test_labels = train_test_split(features, labels, test_size = 0.25, random_state = 38)"
   ]
  },
  {
   "cell_type": "code",
   "execution_count": 39,
   "metadata": {},
   "outputs": [
    {
     "data": {
      "text/plain": [
       "0.71242697822623469"
      ]
     },
     "execution_count": 39,
     "metadata": {},
     "output_type": "execute_result"
    }
   ],
   "source": [
    "kfold = model_selection.KFold(n_splits=10, random_state=38)\n",
    "gbr = GradientBoostingClassifier(n_estimators=50, random_state=38)\n",
    "results = model_selection.cross_val_score(gbr, test_features, test_labels, cv=kfold)\n",
    "gbr.fit(train_features, train_labels)\n",
    "gbr.score(test_features, test_labels)"
   ]
  },
  {
   "cell_type": "code",
   "execution_count": 40,
   "metadata": {},
   "outputs": [
    {
     "name": "stdout",
     "output_type": "stream",
     "text": [
      "0.707119476268\n"
     ]
    }
   ],
   "source": [
    "print(results.mean())"
   ]
  },
  {
   "cell_type": "markdown",
   "metadata": {},
   "source": [
    "### 3.Sklearn feature selection"
   ]
  },
  {
   "cell_type": "code",
   "execution_count": 50,
   "metadata": {
    "collapsed": true
   },
   "outputs": [],
   "source": [
    "from sklearn.feature_selection import RFE"
   ]
  },
  {
   "cell_type": "code",
   "execution_count": 70,
   "metadata": {
    "collapsed": true
   },
   "outputs": [],
   "source": [
    "gbc = GradientBoostingClassifier(n_estimators=100, random_state=38)\n",
    "rfe = RFE(gbc, 10)\n",
    "fit = rfe.fit(train_features, train_labels)"
   ]
  },
  {
   "cell_type": "code",
   "execution_count": 72,
   "metadata": {},
   "outputs": [
    {
     "data": {
      "text/plain": [
       "0.70366436537440258"
      ]
     },
     "execution_count": 72,
     "metadata": {},
     "output_type": "execute_result"
    }
   ],
   "source": [
    "predictions = fit.predict(test_features)\n",
    "accuracy_score(predictions, test_labels)"
   ]
  },
  {
   "cell_type": "code",
   "execution_count": 53,
   "metadata": {},
   "outputs": [
    {
     "data": {
      "text/plain": [
       "array([False, False, False,  True,  True,  True,  True,  True,  True,\n",
       "       False,  True, False, False, False,  True,  True, False, False,\n",
       "       False, False, False, False, False, False, False, False, False,\n",
       "       False, False, False, False, False, False, False, False, False,\n",
       "       False, False, False, False, False, False, False, False, False,\n",
       "       False, False, False, False, False, False, False, False, False,\n",
       "       False, False, False, False, False, False, False, False, False,\n",
       "       False, False, False, False, False, False, False, False, False,\n",
       "       False, False, False, False, False, False, False, False, False,\n",
       "       False, False, False, False, False, False, False, False, False,\n",
       "       False, False, False, False, False, False, False, False, False,\n",
       "       False, False, False, False, False, False, False, False, False,\n",
       "       False, False, False, False, False, False, False, False, False,\n",
       "       False, False, False, False, False, False, False, False, False,\n",
       "       False, False, False, False, False, False, False, False, False,\n",
       "       False, False, False, False, False, False, False, False, False,\n",
       "       False, False, False, False,  True, False, False], dtype=bool)"
      ]
     },
     "execution_count": 53,
     "metadata": {},
     "output_type": "execute_result"
    }
   ],
   "source": [
    "fit.support_"
   ]
  },
  {
   "cell_type": "code",
   "execution_count": 54,
   "metadata": {},
   "outputs": [
    {
     "data": {
      "text/plain": [
       "array([ 11,  35,   8,   1,   1,   1,   1,   1,   1,   2,   1,   6,   9,\n",
       "        71,   1,   1,  62,  75,  31,  20,  30,  24,  50,  23,  29,  37,\n",
       "       112,  26,   7,   3,   5, 121, 124, 123, 127, 128,  33,  64, 136,\n",
       "        61,  10,  77,  83,  78,  57,  97,  99,  72, 104, 103,  70,  60,\n",
       "       113, 115, 117, 129, 131, 133, 137, 101,  42,  58,  45, 106,  38,\n",
       "        48,  28,  16, 105,  89,  90,  55,  25, 139, 141,  59, 126, 122,\n",
       "       120,  84, 135,  74,  80,  79,  95,  94, 107,  53,  41, 111, 118,\n",
       "       125, 132,  14, 142, 138,  47,  22,  36, 140,  17, 134, 130, 119,\n",
       "       116, 114, 110,  92, 100, 102,  98,  21,  96,  15,  93,  56,  32,\n",
       "        12,  81,  34,  40, 108, 109,  91,  18,  88,  73,  85,  44,  46,\n",
       "        27,  86,  87,  76,  49,  82,  65,  66,  13,  54,  67,  19,  68,\n",
       "        43,  39,  69,  52,   4,   1,  63,  51])"
      ]
     },
     "execution_count": 54,
     "metadata": {},
     "output_type": "execute_result"
    }
   ],
   "source": [
    "fit.ranking_"
   ]
  },
  {
   "cell_type": "code",
   "execution_count": 55,
   "metadata": {},
   "outputs": [
    {
     "data": {
      "text/plain": [
       "['bmt_product_groupOther',\n",
       " 'uuid_age_days',\n",
       " 'days_since_order_created',\n",
       " 'uuid_seats_on_active_subs',\n",
       " 'active_registered_seat_sum',\n",
       " 'discount_rate',\n",
       " 'parent_owner_uuid_count',\n",
       " 'deploymentSession Specific Network',\n",
       " 'deploymentStandalone',\n",
       " 'car_pings_since_agreement_start_channel_partner_csn']"
      ]
     },
     "execution_count": 55,
     "metadata": {},
     "output_type": "execute_result"
    }
   ],
   "source": [
    "from itertools import compress\n",
    "list(compress(feature_list, fit.support_.tolist()))"
   ]
  }
 ],
 "metadata": {
  "kernelspec": {
   "display_name": "Python 3",
   "language": "python",
   "name": "python3"
  },
  "language_info": {
   "codemirror_mode": {
    "name": "ipython",
    "version": 3
   },
   "file_extension": ".py",
   "mimetype": "text/x-python",
   "name": "python",
   "nbconvert_exporter": "python",
   "pygments_lexer": "ipython3",
   "version": "3.6.2"
  }
 },
 "nbformat": 4,
 "nbformat_minor": 2
}
