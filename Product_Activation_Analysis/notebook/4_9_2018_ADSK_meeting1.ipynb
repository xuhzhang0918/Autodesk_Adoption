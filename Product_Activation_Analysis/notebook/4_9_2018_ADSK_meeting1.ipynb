{
 "cells": [
  {
   "cell_type": "code",
   "execution_count": 2,
   "metadata": {},
   "outputs": [
    {
     "data": {
      "text/html": [
       "'C:/Users/sprot/Documents/GitHub/autodesk_adoption2'"
      ],
      "text/latex": [
       "'C:/Users/sprot/Documents/GitHub/autodesk\\_adoption2'"
      ],
      "text/markdown": [
       "'C:/Users/sprot/Documents/GitHub/autodesk_adoption2'"
      ],
      "text/plain": [
       "[1] \"C:/Users/sprot/Documents/GitHub/autodesk_adoption2\""
      ]
     },
     "metadata": {},
     "output_type": "display_data"
    }
   ],
   "source": [
    "setwd('C:/Users/sprot/Documents/GitHub/autodesk_adoption2/')\n",
    "getwd()"
   ]
  },
  {
   "cell_type": "code",
   "execution_count": 3,
   "metadata": {},
   "outputs": [
    {
     "name": "stderr",
     "output_type": "stream",
     "text": [
      "Warning message:\n",
      "\"package 'tidyverse' was built under R version 3.4.3\"-- Attaching packages --------------------------------------- tidyverse 1.2.1 --\n",
      "v ggplot2 2.2.1     v purrr   0.2.4\n",
      "v tibble  1.3.4     v dplyr   0.7.4\n",
      "v tidyr   0.8.0     v stringr 1.2.0\n",
      "v readr   1.1.1     v forcats 0.2.0\n",
      "Warning message:\n",
      "\"package 'tidyr' was built under R version 3.4.3\"Warning message:\n",
      "\"package 'readr' was built under R version 3.4.3\"Warning message:\n",
      "\"package 'purrr' was built under R version 3.4.3\"Warning message:\n",
      "\"package 'dplyr' was built under R version 3.4.3\"Warning message:\n",
      "\"package 'stringr' was built under R version 3.4.3\"-- Conflicts ------------------------------------------ tidyverse_conflicts() --\n",
      "x dplyr::filter() masks stats::filter()\n",
      "x dplyr::lag()    masks stats::lag()\n",
      "Warning message:\n",
      "\"package 'lubridate' was built under R version 3.4.3\"\n",
      "Attaching package: 'lubridate'\n",
      "\n",
      "The following object is masked from 'package:base':\n",
      "\n",
      "    date\n",
      "\n"
     ]
    }
   ],
   "source": [
    "library(tidyverse)\n",
    "library(lubridate)\n",
    "\n",
    "initial_load <- read_csv(\"data/autodesk_data.csv\",col_types = list(\"order_number\"=\"c\",\n",
    "                                                           \"agreement_number\"=\"c\",\n",
    "                                                           \"channel_partner_csn\"=\"c\"))\n",
    "\n",
    "\n",
    "#type converson functions:\n",
    "convert_to_lgl <- function(x){\n",
    "  #check if column is only consists of \"Y\",\"N\" and \"NA\"\n",
    "  unique_values <- unique(x)[complete.cases(unique(x))]\n",
    "  lenth_unique <- length(unique_values)\n",
    "  if(lenth_unique == 2){\n",
    "    if (all(sort(unique_values) == sort(c(\"Y\",\"N\")))){\n",
    "      y <- ifelse(x == \"Y\",TRUE,\n",
    "                   ifelse(x == \"N\",FALSE,NA))\n",
    "    } else {\n",
    "      y <- x\n",
    "    }\n",
    "  } else {\n",
    "    y <- x\n",
    "  }\n",
    "}\n",
    "\n",
    "#set critical value to nubmer of countries\n",
    "number_of_countreis <- length(unique(initial_load$country_code))\n",
    "convert_to_fct <- function(x){\n",
    "  number <- length(unique(x))\n",
    "  if((class(x) == \"character\") & (number <= number_of_countreis)){\n",
    "    y <- as.factor(x)\n",
    "  } else {\n",
    "    y <- x\n",
    "  }\n",
    "}\n",
    "\n",
    "#\n",
    "dataset <- initial_load %>% \n",
    "  mutate_all(convert_to_lgl) %>%\n",
    "  mutate_all(convert_to_fct)\n",
    "\n",
    "rm(initial_load)\n",
    "\n"
   ]
  },
  {
   "cell_type": "code",
   "execution_count": 8,
   "metadata": {},
   "outputs": [
    {
     "data": {
      "text/plain": [
       "    Min.  1st Qu.   Median     Mean  3rd Qu.     Max. \n",
       "  0.0000   0.0000   0.1333  41.7835 100.0000 100.0000 "
      ]
     },
     "metadata": {},
     "output_type": "display_data"
    },
    {
     "data": {
      "text/html": [
       "<dl class=dl-horizontal>\n",
       "\t<dt>percentage_reg_seats_activated</dt>\n",
       "\t\t<dd>1</dd>\n",
       "\t<dt>days_since_order_created</dt>\n",
       "\t\t<dd>0.358850591176347</dd>\n",
       "\t<dt>renewal_rate</dt>\n",
       "\t\t<dd>0.354568983409811</dd>\n",
       "\t<dt>dap_days_used_in_previous_one_month</dt>\n",
       "\t\t<dd>0.324125857540583</dd>\n",
       "\t<dt>dts_retention_score</dt>\n",
       "\t\t<dd>0.304902105596222</dd>\n",
       "\t<dt>dap_days_used_in_previous_second_month</dt>\n",
       "\t\t<dd>0.286445937605107</dd>\n",
       "\t<dt>dap_days_used_in_previous_third_month</dt>\n",
       "\t\t<dd>0.284168048030318</dd>\n",
       "\t<dt>active_and_registered_seats_activated</dt>\n",
       "\t\t<dd>0.257120406150507</dd>\n",
       "\t<dt>dap_days_used_in_previous_fourth_month</dt>\n",
       "\t\t<dd>0.24760445171886</dd>\n",
       "\t<dt>dap_pct_days_used_since_agreement_start</dt>\n",
       "\t\t<dd>0.230020989833091</dd>\n",
       "\t<dt>dts_costomer_profile_score</dt>\n",
       "\t\t<dd>0.227965065693347</dd>\n",
       "\t<dt>dts_product_utilization_score</dt>\n",
       "\t\t<dd>0.223342279799573</dd>\n",
       "\t<dt>pns_days_since_agreement_start</dt>\n",
       "\t\t<dd>0.214366211130878</dd>\n",
       "\t<dt>onboarding_support_score</dt>\n",
       "\t\t<dd>0.205049877486724</dd>\n",
       "\t<dt>readiness_score</dt>\n",
       "\t\t<dd>0.192595488507305</dd>\n",
       "\t<dt>dts_product_and_services_score</dt>\n",
       "\t\t<dd>0.174964924974893</dd>\n",
       "\t<dt>dap_pings_in_previous_second_month</dt>\n",
       "\t\t<dd>0.169126652406271</dd>\n",
       "\t<dt>dap_pings_in_previous_one_month</dt>\n",
       "\t\t<dd>0.167102730171728</dd>\n",
       "\t<dt>dts_subscription_engagement_score</dt>\n",
       "\t\t<dd>0.15939413350374</dd>\n",
       "\t<dt>onboarding_access_score</dt>\n",
       "\t\t<dd>0.15462760245961</dd>\n",
       "\t<dt>pns_days_used_in_last_7_days</dt>\n",
       "\t\t<dd>0.153217671221981</dd>\n",
       "\t<dt>dap_pings_in_previous_third_month</dt>\n",
       "\t\t<dd>0.148597620880175</dd>\n",
       "\t<dt>onboarding_score</dt>\n",
       "\t\t<dd>0.148243454992768</dd>\n",
       "\t<dt>pns_days_used_in_previous_one_month</dt>\n",
       "\t\t<dd>0.146143206381527</dd>\n",
       "\t<dt>dap_pings_in_previous_fourth_month</dt>\n",
       "\t\t<dd>0.142970326214834</dd>\n",
       "\t<dt>pns_pct_days_used_since_agreement_start</dt>\n",
       "\t\t<dd>0.136677217711227</dd>\n",
       "\t<dt>active_registered_seat_sum</dt>\n",
       "\t\t<dd>0.130374596085961</dd>\n",
       "\t<dt>pns_days_used_in_previous_second_month</dt>\n",
       "\t\t<dd>0.130066798842682</dd>\n",
       "\t<dt>car_days_used_in_previous_one_month</dt>\n",
       "\t\t<dd>0.121418972834684</dd>\n",
       "\t<dt>pns_days_used_in_previous_fourth_month</dt>\n",
       "\t\t<dd>0.120833230840298</dd>\n",
       "\t<dt>dap_pings_since_agreement_start</dt>\n",
       "\t\t<dd>0.118067462504802</dd>\n",
       "\t<dt>dap_days_used_since_agreement_start</dt>\n",
       "\t\t<dd>0.112906166914772</dd>\n",
       "\t<dt>dap_days_used_in_last_7_days</dt>\n",
       "\t\t<dd>0.108716950103253</dd>\n",
       "\t<dt>pns_days_used_in_previous_third_month</dt>\n",
       "\t\t<dd>0.104008915825206</dd>\n",
       "\t<dt>car_days_used_since_agreement_start</dt>\n",
       "\t\t<dd>0.099002067503157</dd>\n",
       "\t<dt>pns_pings_in_previous_second_month</dt>\n",
       "\t\t<dd>0.0986479799737843</dd>\n",
       "\t<dt>onboarding_product_utilization_score</dt>\n",
       "\t\t<dd>0.0872588320324727</dd>\n",
       "\t<dt>car_days_used_in_last_7_days</dt>\n",
       "\t\t<dd>0.0837051730333248</dd>\n",
       "\t<dt>pns_pings_in_previous_third_month</dt>\n",
       "\t\t<dd>0.0836586084463645</dd>\n",
       "\t<dt>pns_pings_in_previous_one_month</dt>\n",
       "\t\t<dd>0.0825317729790782</dd>\n",
       "\t<dt>car_days_used_in_previous_second_month</dt>\n",
       "\t\t<dd>0.0824959183777585</dd>\n",
       "\t<dt>pns_pings_in_last_7_days</dt>\n",
       "\t\t<dd>0.0774811385651907</dd>\n",
       "\t<dt>pns_pings_in_previous_fourth_month</dt>\n",
       "\t\t<dd>0.0761789979817996</dd>\n",
       "\t<dt>pns_days_used_since_agreement_start</dt>\n",
       "\t\t<dd>0.0705540149317192</dd>\n",
       "\t<dt>dap_pings_in_last_7_days</dt>\n",
       "\t\t<dd>0.0633289606784866</dd>\n",
       "\t<dt>car_days_used_in_previous_third_month</dt>\n",
       "\t\t<dd>0.0623710455605988</dd>\n",
       "\t<dt>pns_pings_since_agreement_start</dt>\n",
       "\t\t<dd>0.0564269976015787</dd>\n",
       "\t<dt>sf_subscription_seats_billed</dt>\n",
       "\t\t<dd>0.0556654792717006</dd>\n",
       "\t<dt>car_pings_in_last_7_days</dt>\n",
       "\t\t<dd>0.0521783261968692</dd>\n",
       "\t<dt>car_pings_in_previous_third_month</dt>\n",
       "\t\t<dd>0.0510416782897299</dd>\n",
       "\t<dt>car_pings_in_previous_second_month</dt>\n",
       "\t\t<dd>0.0465872957454517</dd>\n",
       "\t<dt>car_pings_in_previous_one_month</dt>\n",
       "\t\t<dd>0.0400126863923423</dd>\n",
       "\t<dt>car_days_used_in_previous_fourth_month</dt>\n",
       "\t\t<dd>0.0371265718786817</dd>\n",
       "\t<dt>total_billed_net_p4p_incentives_usd</dt>\n",
       "\t\t<dd>0.0320494584815783</dd>\n",
       "\t<dt>total_billed_net_p4p_ccf_incentives</dt>\n",
       "\t\t<dd>0.0319445592178272</dd>\n",
       "\t<dt>total_billed_usd</dt>\n",
       "\t\t<dd>0.0315345090670617</dd>\n",
       "\t<dt>total_billed_ccf</dt>\n",
       "\t\t<dd>0.0314356160292849</dd>\n",
       "\t<dt>car_pings_since_agreement_start</dt>\n",
       "\t\t<dd>0.0261356026275356</dd>\n",
       "\t<dt>car_pings_in_previous_fourth_month</dt>\n",
       "\t\t<dd>0.025398983323715</dd>\n",
       "\t<dt>uuid_seats_on_active_subs</dt>\n",
       "\t\t<dd>0.0193768336474369</dd>\n",
       "\t<dt>car_pct_days_used_since_agreement_start</dt>\n",
       "\t\t<dd>0.0108558534965276</dd>\n",
       "\t<dt>parent_owner_uuid_count</dt>\n",
       "\t\t<dd>0.00866178667253954</dd>\n",
       "\t<dt>srp_billed_usd</dt>\n",
       "\t\t<dd>0.00722301021996854</dd>\n",
       "\t<dt>srp_billed_ccf</dt>\n",
       "\t\t<dd>0.00718878614829236</dd>\n",
       "</dl>\n"
      ],
      "text/latex": [
       "\\begin{description*}\n",
       "\\item[percentage\\textbackslash{}\\_reg\\textbackslash{}\\_seats\\textbackslash{}\\_activated] 1\n",
       "\\item[days\\textbackslash{}\\_since\\textbackslash{}\\_order\\textbackslash{}\\_created] 0.358850591176347\n",
       "\\item[renewal\\textbackslash{}\\_rate] 0.354568983409811\n",
       "\\item[dap\\textbackslash{}\\_days\\textbackslash{}\\_used\\textbackslash{}\\_in\\textbackslash{}\\_previous\\textbackslash{}\\_one\\textbackslash{}\\_month] 0.324125857540583\n",
       "\\item[dts\\textbackslash{}\\_retention\\textbackslash{}\\_score] 0.304902105596222\n",
       "\\item[dap\\textbackslash{}\\_days\\textbackslash{}\\_used\\textbackslash{}\\_in\\textbackslash{}\\_previous\\textbackslash{}\\_second\\textbackslash{}\\_month] 0.286445937605107\n",
       "\\item[dap\\textbackslash{}\\_days\\textbackslash{}\\_used\\textbackslash{}\\_in\\textbackslash{}\\_previous\\textbackslash{}\\_third\\textbackslash{}\\_month] 0.284168048030318\n",
       "\\item[active\\textbackslash{}\\_and\\textbackslash{}\\_registered\\textbackslash{}\\_seats\\textbackslash{}\\_activated] 0.257120406150507\n",
       "\\item[dap\\textbackslash{}\\_days\\textbackslash{}\\_used\\textbackslash{}\\_in\\textbackslash{}\\_previous\\textbackslash{}\\_fourth\\textbackslash{}\\_month] 0.24760445171886\n",
       "\\item[dap\\textbackslash{}\\_pct\\textbackslash{}\\_days\\textbackslash{}\\_used\\textbackslash{}\\_since\\textbackslash{}\\_agreement\\textbackslash{}\\_start] 0.230020989833091\n",
       "\\item[dts\\textbackslash{}\\_costomer\\textbackslash{}\\_profile\\textbackslash{}\\_score] 0.227965065693347\n",
       "\\item[dts\\textbackslash{}\\_product\\textbackslash{}\\_utilization\\textbackslash{}\\_score] 0.223342279799573\n",
       "\\item[pns\\textbackslash{}\\_days\\textbackslash{}\\_since\\textbackslash{}\\_agreement\\textbackslash{}\\_start] 0.214366211130878\n",
       "\\item[onboarding\\textbackslash{}\\_support\\textbackslash{}\\_score] 0.205049877486724\n",
       "\\item[readiness\\textbackslash{}\\_score] 0.192595488507305\n",
       "\\item[dts\\textbackslash{}\\_product\\textbackslash{}\\_and\\textbackslash{}\\_services\\textbackslash{}\\_score] 0.174964924974893\n",
       "\\item[dap\\textbackslash{}\\_pings\\textbackslash{}\\_in\\textbackslash{}\\_previous\\textbackslash{}\\_second\\textbackslash{}\\_month] 0.169126652406271\n",
       "\\item[dap\\textbackslash{}\\_pings\\textbackslash{}\\_in\\textbackslash{}\\_previous\\textbackslash{}\\_one\\textbackslash{}\\_month] 0.167102730171728\n",
       "\\item[dts\\textbackslash{}\\_subscription\\textbackslash{}\\_engagement\\textbackslash{}\\_score] 0.15939413350374\n",
       "\\item[onboarding\\textbackslash{}\\_access\\textbackslash{}\\_score] 0.15462760245961\n",
       "\\item[pns\\textbackslash{}\\_days\\textbackslash{}\\_used\\textbackslash{}\\_in\\textbackslash{}\\_last\\textbackslash{}\\_7\\textbackslash{}\\_days] 0.153217671221981\n",
       "\\item[dap\\textbackslash{}\\_pings\\textbackslash{}\\_in\\textbackslash{}\\_previous\\textbackslash{}\\_third\\textbackslash{}\\_month] 0.148597620880175\n",
       "\\item[onboarding\\textbackslash{}\\_score] 0.148243454992768\n",
       "\\item[pns\\textbackslash{}\\_days\\textbackslash{}\\_used\\textbackslash{}\\_in\\textbackslash{}\\_previous\\textbackslash{}\\_one\\textbackslash{}\\_month] 0.146143206381527\n",
       "\\item[dap\\textbackslash{}\\_pings\\textbackslash{}\\_in\\textbackslash{}\\_previous\\textbackslash{}\\_fourth\\textbackslash{}\\_month] 0.142970326214834\n",
       "\\item[pns\\textbackslash{}\\_pct\\textbackslash{}\\_days\\textbackslash{}\\_used\\textbackslash{}\\_since\\textbackslash{}\\_agreement\\textbackslash{}\\_start] 0.136677217711227\n",
       "\\item[active\\textbackslash{}\\_registered\\textbackslash{}\\_seat\\textbackslash{}\\_sum] 0.130374596085961\n",
       "\\item[pns\\textbackslash{}\\_days\\textbackslash{}\\_used\\textbackslash{}\\_in\\textbackslash{}\\_previous\\textbackslash{}\\_second\\textbackslash{}\\_month] 0.130066798842682\n",
       "\\item[car\\textbackslash{}\\_days\\textbackslash{}\\_used\\textbackslash{}\\_in\\textbackslash{}\\_previous\\textbackslash{}\\_one\\textbackslash{}\\_month] 0.121418972834684\n",
       "\\item[pns\\textbackslash{}\\_days\\textbackslash{}\\_used\\textbackslash{}\\_in\\textbackslash{}\\_previous\\textbackslash{}\\_fourth\\textbackslash{}\\_month] 0.120833230840298\n",
       "\\item[dap\\textbackslash{}\\_pings\\textbackslash{}\\_since\\textbackslash{}\\_agreement\\textbackslash{}\\_start] 0.118067462504802\n",
       "\\item[dap\\textbackslash{}\\_days\\textbackslash{}\\_used\\textbackslash{}\\_since\\textbackslash{}\\_agreement\\textbackslash{}\\_start] 0.112906166914772\n",
       "\\item[dap\\textbackslash{}\\_days\\textbackslash{}\\_used\\textbackslash{}\\_in\\textbackslash{}\\_last\\textbackslash{}\\_7\\textbackslash{}\\_days] 0.108716950103253\n",
       "\\item[pns\\textbackslash{}\\_days\\textbackslash{}\\_used\\textbackslash{}\\_in\\textbackslash{}\\_previous\\textbackslash{}\\_third\\textbackslash{}\\_month] 0.104008915825206\n",
       "\\item[car\\textbackslash{}\\_days\\textbackslash{}\\_used\\textbackslash{}\\_since\\textbackslash{}\\_agreement\\textbackslash{}\\_start] 0.099002067503157\n",
       "\\item[pns\\textbackslash{}\\_pings\\textbackslash{}\\_in\\textbackslash{}\\_previous\\textbackslash{}\\_second\\textbackslash{}\\_month] 0.0986479799737843\n",
       "\\item[onboarding\\textbackslash{}\\_product\\textbackslash{}\\_utilization\\textbackslash{}\\_score] 0.0872588320324727\n",
       "\\item[car\\textbackslash{}\\_days\\textbackslash{}\\_used\\textbackslash{}\\_in\\textbackslash{}\\_last\\textbackslash{}\\_7\\textbackslash{}\\_days] 0.0837051730333248\n",
       "\\item[pns\\textbackslash{}\\_pings\\textbackslash{}\\_in\\textbackslash{}\\_previous\\textbackslash{}\\_third\\textbackslash{}\\_month] 0.0836586084463645\n",
       "\\item[pns\\textbackslash{}\\_pings\\textbackslash{}\\_in\\textbackslash{}\\_previous\\textbackslash{}\\_one\\textbackslash{}\\_month] 0.0825317729790782\n",
       "\\item[car\\textbackslash{}\\_days\\textbackslash{}\\_used\\textbackslash{}\\_in\\textbackslash{}\\_previous\\textbackslash{}\\_second\\textbackslash{}\\_month] 0.0824959183777585\n",
       "\\item[pns\\textbackslash{}\\_pings\\textbackslash{}\\_in\\textbackslash{}\\_last\\textbackslash{}\\_7\\textbackslash{}\\_days] 0.0774811385651907\n",
       "\\item[pns\\textbackslash{}\\_pings\\textbackslash{}\\_in\\textbackslash{}\\_previous\\textbackslash{}\\_fourth\\textbackslash{}\\_month] 0.0761789979817996\n",
       "\\item[pns\\textbackslash{}\\_days\\textbackslash{}\\_used\\textbackslash{}\\_since\\textbackslash{}\\_agreement\\textbackslash{}\\_start] 0.0705540149317192\n",
       "\\item[dap\\textbackslash{}\\_pings\\textbackslash{}\\_in\\textbackslash{}\\_last\\textbackslash{}\\_7\\textbackslash{}\\_days] 0.0633289606784866\n",
       "\\item[car\\textbackslash{}\\_days\\textbackslash{}\\_used\\textbackslash{}\\_in\\textbackslash{}\\_previous\\textbackslash{}\\_third\\textbackslash{}\\_month] 0.0623710455605988\n",
       "\\item[pns\\textbackslash{}\\_pings\\textbackslash{}\\_since\\textbackslash{}\\_agreement\\textbackslash{}\\_start] 0.0564269976015787\n",
       "\\item[sf\\textbackslash{}\\_subscription\\textbackslash{}\\_seats\\textbackslash{}\\_billed] 0.0556654792717006\n",
       "\\item[car\\textbackslash{}\\_pings\\textbackslash{}\\_in\\textbackslash{}\\_last\\textbackslash{}\\_7\\textbackslash{}\\_days] 0.0521783261968692\n",
       "\\item[car\\textbackslash{}\\_pings\\textbackslash{}\\_in\\textbackslash{}\\_previous\\textbackslash{}\\_third\\textbackslash{}\\_month] 0.0510416782897299\n",
       "\\item[car\\textbackslash{}\\_pings\\textbackslash{}\\_in\\textbackslash{}\\_previous\\textbackslash{}\\_second\\textbackslash{}\\_month] 0.0465872957454517\n",
       "\\item[car\\textbackslash{}\\_pings\\textbackslash{}\\_in\\textbackslash{}\\_previous\\textbackslash{}\\_one\\textbackslash{}\\_month] 0.0400126863923423\n",
       "\\item[car\\textbackslash{}\\_days\\textbackslash{}\\_used\\textbackslash{}\\_in\\textbackslash{}\\_previous\\textbackslash{}\\_fourth\\textbackslash{}\\_month] 0.0371265718786817\n",
       "\\item[total\\textbackslash{}\\_billed\\textbackslash{}\\_net\\textbackslash{}\\_p4p\\textbackslash{}\\_incentives\\textbackslash{}\\_usd] 0.0320494584815783\n",
       "\\item[total\\textbackslash{}\\_billed\\textbackslash{}\\_net\\textbackslash{}\\_p4p\\textbackslash{}\\_ccf\\textbackslash{}\\_incentives] 0.0319445592178272\n",
       "\\item[total\\textbackslash{}\\_billed\\textbackslash{}\\_usd] 0.0315345090670617\n",
       "\\item[total\\textbackslash{}\\_billed\\textbackslash{}\\_ccf] 0.0314356160292849\n",
       "\\item[car\\textbackslash{}\\_pings\\textbackslash{}\\_since\\textbackslash{}\\_agreement\\textbackslash{}\\_start] 0.0261356026275356\n",
       "\\item[car\\textbackslash{}\\_pings\\textbackslash{}\\_in\\textbackslash{}\\_previous\\textbackslash{}\\_fourth\\textbackslash{}\\_month] 0.025398983323715\n",
       "\\item[uuid\\textbackslash{}\\_seats\\textbackslash{}\\_on\\textbackslash{}\\_active\\textbackslash{}\\_subs] 0.0193768336474369\n",
       "\\item[car\\textbackslash{}\\_pct\\textbackslash{}\\_days\\textbackslash{}\\_used\\textbackslash{}\\_since\\textbackslash{}\\_agreement\\textbackslash{}\\_start] 0.0108558534965276\n",
       "\\item[parent\\textbackslash{}\\_owner\\textbackslash{}\\_uuid\\textbackslash{}\\_count] 0.00866178667253954\n",
       "\\item[srp\\textbackslash{}\\_billed\\textbackslash{}\\_usd] 0.00722301021996854\n",
       "\\item[srp\\textbackslash{}\\_billed\\textbackslash{}\\_ccf] 0.00718878614829236\n",
       "\\end{description*}\n"
      ],
      "text/markdown": [
       "percentage_reg_seats_activated\n",
       ":   1days_since_order_created\n",
       ":   0.358850591176347renewal_rate\n",
       ":   0.354568983409811dap_days_used_in_previous_one_month\n",
       ":   0.324125857540583dts_retention_score\n",
       ":   0.304902105596222dap_days_used_in_previous_second_month\n",
       ":   0.286445937605107dap_days_used_in_previous_third_month\n",
       ":   0.284168048030318active_and_registered_seats_activated\n",
       ":   0.257120406150507dap_days_used_in_previous_fourth_month\n",
       ":   0.24760445171886dap_pct_days_used_since_agreement_start\n",
       ":   0.230020989833091dts_costomer_profile_score\n",
       ":   0.227965065693347dts_product_utilization_score\n",
       ":   0.223342279799573pns_days_since_agreement_start\n",
       ":   0.214366211130878onboarding_support_score\n",
       ":   0.205049877486724readiness_score\n",
       ":   0.192595488507305dts_product_and_services_score\n",
       ":   0.174964924974893dap_pings_in_previous_second_month\n",
       ":   0.169126652406271dap_pings_in_previous_one_month\n",
       ":   0.167102730171728dts_subscription_engagement_score\n",
       ":   0.15939413350374onboarding_access_score\n",
       ":   0.15462760245961pns_days_used_in_last_7_days\n",
       ":   0.153217671221981dap_pings_in_previous_third_month\n",
       ":   0.148597620880175onboarding_score\n",
       ":   0.148243454992768pns_days_used_in_previous_one_month\n",
       ":   0.146143206381527dap_pings_in_previous_fourth_month\n",
       ":   0.142970326214834pns_pct_days_used_since_agreement_start\n",
       ":   0.136677217711227active_registered_seat_sum\n",
       ":   0.130374596085961pns_days_used_in_previous_second_month\n",
       ":   0.130066798842682car_days_used_in_previous_one_month\n",
       ":   0.121418972834684pns_days_used_in_previous_fourth_month\n",
       ":   0.120833230840298dap_pings_since_agreement_start\n",
       ":   0.118067462504802dap_days_used_since_agreement_start\n",
       ":   0.112906166914772dap_days_used_in_last_7_days\n",
       ":   0.108716950103253pns_days_used_in_previous_third_month\n",
       ":   0.104008915825206car_days_used_since_agreement_start\n",
       ":   0.099002067503157pns_pings_in_previous_second_month\n",
       ":   0.0986479799737843onboarding_product_utilization_score\n",
       ":   0.0872588320324727car_days_used_in_last_7_days\n",
       ":   0.0837051730333248pns_pings_in_previous_third_month\n",
       ":   0.0836586084463645pns_pings_in_previous_one_month\n",
       ":   0.0825317729790782car_days_used_in_previous_second_month\n",
       ":   0.0824959183777585pns_pings_in_last_7_days\n",
       ":   0.0774811385651907pns_pings_in_previous_fourth_month\n",
       ":   0.0761789979817996pns_days_used_since_agreement_start\n",
       ":   0.0705540149317192dap_pings_in_last_7_days\n",
       ":   0.0633289606784866car_days_used_in_previous_third_month\n",
       ":   0.0623710455605988pns_pings_since_agreement_start\n",
       ":   0.0564269976015787sf_subscription_seats_billed\n",
       ":   0.0556654792717006car_pings_in_last_7_days\n",
       ":   0.0521783261968692car_pings_in_previous_third_month\n",
       ":   0.0510416782897299car_pings_in_previous_second_month\n",
       ":   0.0465872957454517car_pings_in_previous_one_month\n",
       ":   0.0400126863923423car_days_used_in_previous_fourth_month\n",
       ":   0.0371265718786817total_billed_net_p4p_incentives_usd\n",
       ":   0.0320494584815783total_billed_net_p4p_ccf_incentives\n",
       ":   0.0319445592178272total_billed_usd\n",
       ":   0.0315345090670617total_billed_ccf\n",
       ":   0.0314356160292849car_pings_since_agreement_start\n",
       ":   0.0261356026275356car_pings_in_previous_fourth_month\n",
       ":   0.025398983323715uuid_seats_on_active_subs\n",
       ":   0.0193768336474369car_pct_days_used_since_agreement_start\n",
       ":   0.0108558534965276parent_owner_uuid_count\n",
       ":   0.00866178667253954srp_billed_usd\n",
       ":   0.00722301021996854srp_billed_ccf\n",
       ":   0.00718878614829236\n",
       "\n"
      ],
      "text/plain": [
       "         percentage_reg_seats_activated                days_since_order_created \n",
       "                            1.000000000                             0.358850591 \n",
       "                           renewal_rate     dap_days_used_in_previous_one_month \n",
       "                            0.354568983                             0.324125858 \n",
       "                    dts_retention_score  dap_days_used_in_previous_second_month \n",
       "                            0.304902106                             0.286445938 \n",
       "  dap_days_used_in_previous_third_month   active_and_registered_seats_activated \n",
       "                            0.284168048                             0.257120406 \n",
       " dap_days_used_in_previous_fourth_month dap_pct_days_used_since_agreement_start \n",
       "                            0.247604452                             0.230020990 \n",
       "             dts_costomer_profile_score           dts_product_utilization_score \n",
       "                            0.227965066                             0.223342280 \n",
       "         pns_days_since_agreement_start                onboarding_support_score \n",
       "                            0.214366211                             0.205049877 \n",
       "                        readiness_score          dts_product_and_services_score \n",
       "                            0.192595489                             0.174964925 \n",
       "     dap_pings_in_previous_second_month         dap_pings_in_previous_one_month \n",
       "                            0.169126652                             0.167102730 \n",
       "      dts_subscription_engagement_score                 onboarding_access_score \n",
       "                            0.159394134                             0.154627602 \n",
       "           pns_days_used_in_last_7_days       dap_pings_in_previous_third_month \n",
       "                            0.153217671                             0.148597621 \n",
       "                       onboarding_score     pns_days_used_in_previous_one_month \n",
       "                            0.148243455                             0.146143206 \n",
       "     dap_pings_in_previous_fourth_month pns_pct_days_used_since_agreement_start \n",
       "                            0.142970326                             0.136677218 \n",
       "             active_registered_seat_sum  pns_days_used_in_previous_second_month \n",
       "                            0.130374596                             0.130066799 \n",
       "    car_days_used_in_previous_one_month  pns_days_used_in_previous_fourth_month \n",
       "                            0.121418973                             0.120833231 \n",
       "        dap_pings_since_agreement_start     dap_days_used_since_agreement_start \n",
       "                            0.118067463                             0.112906167 \n",
       "           dap_days_used_in_last_7_days   pns_days_used_in_previous_third_month \n",
       "                            0.108716950                             0.104008916 \n",
       "    car_days_used_since_agreement_start      pns_pings_in_previous_second_month \n",
       "                            0.099002068                             0.098647980 \n",
       "   onboarding_product_utilization_score            car_days_used_in_last_7_days \n",
       "                            0.087258832                             0.083705173 \n",
       "      pns_pings_in_previous_third_month         pns_pings_in_previous_one_month \n",
       "                            0.083658608                             0.082531773 \n",
       " car_days_used_in_previous_second_month                pns_pings_in_last_7_days \n",
       "                            0.082495918                             0.077481139 \n",
       "     pns_pings_in_previous_fourth_month     pns_days_used_since_agreement_start \n",
       "                            0.076178998                             0.070554015 \n",
       "               dap_pings_in_last_7_days   car_days_used_in_previous_third_month \n",
       "                            0.063328961                             0.062371046 \n",
       "        pns_pings_since_agreement_start            sf_subscription_seats_billed \n",
       "                            0.056426998                             0.055665479 \n",
       "               car_pings_in_last_7_days       car_pings_in_previous_third_month \n",
       "                            0.052178326                             0.051041678 \n",
       "     car_pings_in_previous_second_month         car_pings_in_previous_one_month \n",
       "                            0.046587296                             0.040012686 \n",
       " car_days_used_in_previous_fourth_month     total_billed_net_p4p_incentives_usd \n",
       "                            0.037126572                             0.032049458 \n",
       "    total_billed_net_p4p_ccf_incentives                        total_billed_usd \n",
       "                            0.031944559                             0.031534509 \n",
       "                       total_billed_ccf         car_pings_since_agreement_start \n",
       "                            0.031435616                             0.026135603 \n",
       "     car_pings_in_previous_fourth_month               uuid_seats_on_active_subs \n",
       "                            0.025398983                             0.019376834 \n",
       "car_pct_days_used_since_agreement_start                 parent_owner_uuid_count \n",
       "                            0.010855853                             0.008661787 \n",
       "                         srp_billed_usd                          srp_billed_ccf \n",
       "                            0.007223010                             0.007188786 "
      ]
     },
     "metadata": {},
     "output_type": "display_data"
    },
    {
     "data": {
      "image/png": "[encoded data removed]",
      "text/plain": [
       "Plot with title \"Histogram of dataset$pns_days_since_agreement_start\""
      ]
     },
     "metadata": {},
     "output_type": "display_data"
    }
   ],
   "source": [
    "hist(dataset$pns_days_since_agreement_start, breaks=100) #histogram of distribution. SOme spikes, could indicate data collection patterns/issues\n",
    "\n",
    "summary(dataset$percentage_reg_seats_activated) #mean 41.78%\n",
    "numeric_only = dataset %>%\n",
    "  select_if(is.numeric)\n",
    "our_cor =  cor(numeric_only, use = 'complete.obs') #any other way to handle NA? complete will drop the whole column even for 1 NA.\n",
    "\n",
    "#we want the corr of percentage_reg_seats to find the highest (by absolute value) correlation\n",
    "cor_of_act = our_cor['percentage_reg_seats_activated',]\n",
    "cor_of_act_abs = abs(cor_of_act) #Absolute values of correlation scores\n",
    "cor_of_act_abs = sort(cor_of_act_abs, decreasing = TRUE)\n",
    "cor_of_act_abs #highest one 0.35, not very strong\n"
   ]
  },
  {
   "cell_type": "code",
   "execution_count": 23,
   "metadata": {},
   "outputs": [
    {
     "data": {
      "text/html": [
       "<table>\n",
       "<thead><tr><th scope=col>onboarding_health</th><th scope=col>mean_activation</th></tr></thead>\n",
       "<tbody>\n",
       "\t<tr><td>At Risk </td><td>33.21605</td></tr>\n",
       "\t<tr><td>Good    </td><td>51.53145</td></tr>\n",
       "\t<tr><td>Monitor </td><td>35.74488</td></tr>\n",
       "\t<tr><td>NA      </td><td>27.52468</td></tr>\n",
       "</tbody>\n",
       "</table>\n"
      ],
      "text/latex": [
       "\\begin{tabular}{r|ll}\n",
       " onboarding\\_health & mean\\_activation\\\\\n",
       "\\hline\n",
       "\t At Risk  & 33.21605\\\\\n",
       "\t Good     & 51.53145\\\\\n",
       "\t Monitor  & 35.74488\\\\\n",
       "\t NA       & 27.52468\\\\\n",
       "\\end{tabular}\n"
      ],
      "text/markdown": [
       "\n",
       "onboarding_health | mean_activation | \n",
       "|---|---|---|---|\n",
       "| At Risk  | 33.21605 | \n",
       "| Good     | 51.53145 | \n",
       "| Monitor  | 35.74488 | \n",
       "| NA       | 27.52468 | \n",
       "\n",
       "\n"
      ],
      "text/plain": [
       "  onboarding_health mean_activation\n",
       "1 At Risk           33.21605       \n",
       "2 Good              51.53145       \n",
       "3 Monitor           35.74488       \n",
       "4 NA                27.52468       "
      ]
     },
     "metadata": {},
     "output_type": "display_data"
    }
   ],
   "source": [
    "dataset %>%\n",
    "  group_by(onboarding_health) %>%\n",
    "    summarise(mean_activation = mean(percentage_reg_seats_activated))\n",
    "\n",
    "by_chan_part_id = dataset %>%\n",
    "  group_by(channel_partner_uuid)\n",
    "\n",
    "activation_by_reseller = by_chan_part_id %>% #! See the large range. Not all resellers are created equal. WHY?\n",
    "  summarise(mean_activation = mean(percentage_reg_seats_activated), \n",
    "            reseller_tot_seats = sum(active_registered_seat_sum),\n",
    "            country = first(country_name)) %>% #tenative country\n",
    "    arrange(desc(mean_activation))\n",
    "\n",
    "country_sum = activation_by_reseller %>% #!!! Very significant differences. China seems to perform by far the worst of all the large markets. WHY?\n",
    "  group_by(country) %>%\n",
    "    summarise(country_mean = mean(mean_activation),\n",
    "              num_records = sum(reseller_tot_seats)) %>%\n",
    "      arrange(desc(country_mean))\n",
    "\n",
    "\n",
    "by_chan_part_type = dataset %>% #no significant correlation\n",
    "  group_by(channel_partner_type) %>%\n",
    "    summarise(mean_activation = mean(percentage_reg_seats_activated))\n",
    "\n",
    "dataset2 = dataset %>%\n",
    "  mutate(quarter1 = quarter(agreement_start_date,with_year = T))\n",
    "\n",
    "by_chan_part_tier = dataset2 %>% \n",
    "  group_by(partner_tier) %>%\n",
    "  summarise(mean_activation = mean(percentage_reg_seats_activated)) %>%\n",
    "  ungroup()\n",
    "\n",
    "by_cust_size = dataset %>% #SMB and ENT do better than VSB. UNK do badly!\n",
    "  group_by(customer_size_code) %>%\n",
    "    summarise(mean_activation = mean(percentage_reg_seats_activated))\n",
    "                                   \n",
    "by_quarter = dataset %>%\n",
    "  group_by(fiscal_quarter_and_year) %>%\n",
    "    summarise(mean_activation = mean(percentage_reg_seats_activated))\n",
    "\n",
    "active_only = dataset %>%\n",
    "  filter(agreement_status == 'Active')\n",
    "\n",
    "non_zero_seats = dataset %>%\n",
    "  filter(active_registered_seat_sum > 0)\n",
    "      \n",
    "across_userbase_activation = non_zero_seats %>%\n",
    "  group_by(fiscal_quarter_and_year) %>%\n",
    "    mutate(on_seats_basis_mean_activation = sum(active_and_registered_seats_activated)/sum(active_registered_seat_sum)) %>% # there are some cases of 0 seats\n",
    "  ungroup()\n"
   ]
  },
  {
   "cell_type": "code",
   "execution_count": 10,
   "metadata": {},
   "outputs": [
    {
     "data": {},
     "metadata": {},
     "output_type": "display_data"
    },
    {
     "data": {
      "image/png": "[encoded data removed]",
      "text/plain": [
       "plot without title"
      ]
     },
     "metadata": {},
     "output_type": "display_data"
    }
   ],
   "source": [
    "mean_act_by_quarter_compbasis_p = ggplot(data = by_quarter, mapping = aes(x=fiscal_quarter_and_year, y=mean_activation, group =1)) + \n",
    "  geom_line(color = 'red') + geom_point()\n",
    "mean_act_by_quarter_compbasis_p #why is the trend so upward? seems very data collection related, hard to believe that the actual activations change so much.\n",
    "#why we have future data? Billing?"
   ]
  },
  {
   "cell_type": "code",
   "execution_count": 11,
   "metadata": {},
   "outputs": [
    {
     "data": {},
     "metadata": {},
     "output_type": "display_data"
    },
    {
     "data": {
      "image/png": "[encoded data removed]",
      "text/plain": [
       "plot without title"
      ]
     },
     "metadata": {},
     "output_type": "display_data"
    }
   ],
   "source": [
    "mean_act_by_part_tier_p = ggplot(data = by_chan_part_tier, mapping = aes(x=partner_tier, y=mean_activation)) + geom_col()\n",
    "mean_act_by_part_tier_p "
   ]
  },
  {
   "cell_type": "code",
   "execution_count": 13,
   "metadata": {},
   "outputs": [
    {
     "data": {
      "text/html": [
       "192198"
      ],
      "text/latex": [
       "192198"
      ],
      "text/markdown": [
       "192198"
      ],
      "text/plain": [
       "[1] 192198"
      ]
     },
     "metadata": {},
     "output_type": "display_data"
    },
    {
     "data": {
      "text/html": [
       "192712"
      ],
      "text/latex": [
       "192712"
      ],
      "text/markdown": [
       "192712"
      ],
      "text/plain": [
       "[1] 192712"
      ]
     },
     "metadata": {},
     "output_type": "display_data"
    }
   ],
   "source": [
    "sum(dataset$active_registered_seat_sum)\n",
    "#[1] 192198\n",
    "sum(dataset$active_and_registered_seats_activated)\n",
    "#[1] 192712\n",
    "#unexpected small difference. Parent / owner? 1956AC7C-C016-4a39-83BD-A0057BC972E5 has 7 activated but 0 total seats???\n",
    "\n",
    "#some rows have more activated than registered\n",
    "problematic_rows <- dataset %>%\n",
    "  dplyr::filter(active_and_registered_seats_activated > active_registered_seat_sum)\n"
   ]
  },
  {
   "cell_type": "code",
   "execution_count": 14,
   "metadata": {},
   "outputs": [
    {
     "data": {},
     "metadata": {},
     "output_type": "display_data"
    },
    {
     "data": {
      "image/png": "[encoded data removed]",
      "text/plain": [
       "plot without title"
      ]
     },
     "metadata": {},
     "output_type": "display_data"
    }
   ],
   "source": [
    "#group by quater and redo \n",
    "dataset %>%\n",
    "  dplyr::filter(agreement_start_date > ymd(\"2015-03-15\")) %>%\n",
    "  mutate(quarter1 = quarter(agreement_start_date,with_year = T)) %>%\n",
    "  group_by(quarter1) %>%\n",
    "  summarise(mean_activation = mean(percentage_reg_seats_activated)) %>%\n",
    "  ggplot(mapping = aes(x=quarter1, y=mean_activation, group =1)) + \n",
    "  geom_line(color = 'red') + geom_point()\n"
   ]
  },
  {
   "cell_type": "code",
   "execution_count": 15,
   "metadata": {},
   "outputs": [
    {
     "data": {
      "text/html": [
       "TRUE"
      ],
      "text/latex": [
       "TRUE"
      ],
      "text/markdown": [
       "TRUE"
      ],
      "text/plain": [
       "[1] TRUE"
      ]
     },
     "metadata": {},
     "output_type": "display_data"
    },
    {
     "data": {},
     "metadata": {},
     "output_type": "display_data"
    },
    {
     "data": {
      "image/png": "[encoded data removed]",
      "text/plain": [
       "plot without title"
      ]
     },
     "metadata": {},
     "output_type": "display_data"
    }
   ],
   "source": [
    "relationship <- dataset %>%\n",
    "  distinct(channel_partner_csn,channel_partner_uuid) %>%\n",
    "  group_by(channel_partner_csn) %>%\n",
    "  mutate(one_to_many = n_distinct(channel_partner_uuid)) %>%\n",
    "  ungroup()\n",
    "all(relationship$one_to_many == 1)\n",
    "\n",
    "\n",
    "dataset %>%\n",
    "  group_by(customer_size_code,partner_tier) %>%\n",
    "  summarise(mean_activation = mean(percentage_reg_seats_activated)) %>%\n",
    "  ungroup() %>%\n",
    "  ggplot(aes(x = customer_size_code,y=partner_tier,fill=mean_activation)) +\n",
    "  geom_tile()\n"
   ]
  },
  {
   "cell_type": "code",
   "execution_count": 24,
   "metadata": {},
   "outputs": [
    {
     "data": {
      "text/html": [
       "<table>\n",
       "<thead><tr><th scope=col>country</th><th scope=col>country_mean</th><th scope=col>num_records</th></tr></thead>\n",
       "<tbody>\n",
       "\t<tr><td>Faroe Islands       </td><td>100.00000           </td><td>    1               </td></tr>\n",
       "\t<tr><td>Ireland             </td><td>100.00000           </td><td>    1               </td></tr>\n",
       "\t<tr><td>Chile               </td><td> 64.37945           </td><td>  366               </td></tr>\n",
       "\t<tr><td>Uganda              </td><td> 62.17117           </td><td>  140               </td></tr>\n",
       "\t<tr><td>United Kingdom      </td><td> 59.21968           </td><td>13605               </td></tr>\n",
       "\t<tr><td>Germany             </td><td> 57.71090           </td><td> 8053               </td></tr>\n",
       "\t<tr><td>Hungary             </td><td> 56.30389           </td><td>  436               </td></tr>\n",
       "\t<tr><td>Saudi Arabia        </td><td> 56.19696           </td><td>  383               </td></tr>\n",
       "\t<tr><td>Portugal            </td><td> 55.65591           </td><td>  838               </td></tr>\n",
       "\t<tr><td>France              </td><td> 55.04235           </td><td>13381               </td></tr>\n",
       "\t<tr><td>United Arab Emirates</td><td> 53.51414           </td><td> 2036               </td></tr>\n",
       "\t<tr><td>Russian Federation  </td><td> 53.20713           </td><td> 1796               </td></tr>\n",
       "\t<tr><td>United States       </td><td> 50.91783           </td><td>43434               </td></tr>\n",
       "\t<tr><td>Australia           </td><td> 50.89756           </td><td> 2484               </td></tr>\n",
       "\t<tr><td>South Africa        </td><td> 50.84594           </td><td>  526               </td></tr>\n",
       "\t<tr><td>Switzerland         </td><td> 50.67189           </td><td>  370               </td></tr>\n",
       "\t<tr><td>Qatar               </td><td> 50.06116           </td><td>  307               </td></tr>\n",
       "\t<tr><td>Moldova, Republic Of</td><td> 50.04167           </td><td>    9               </td></tr>\n",
       "\t<tr><td>El Salvador         </td><td> 50.04111           </td><td>   88               </td></tr>\n",
       "\t<tr><td>Sweden              </td><td> 50.00000           </td><td>    5               </td></tr>\n",
       "</tbody>\n",
       "</table>\n"
      ],
      "text/latex": [
       "\\begin{tabular}{r|lll}\n",
       " country & country\\_mean & num\\_records\\\\\n",
       "\\hline\n",
       "\t Faroe Islands        & 100.00000            &     1               \\\\\n",
       "\t Ireland              & 100.00000            &     1               \\\\\n",
       "\t Chile                &  64.37945            &   366               \\\\\n",
       "\t Uganda               &  62.17117            &   140               \\\\\n",
       "\t United Kingdom       &  59.21968            & 13605               \\\\\n",
       "\t Germany              &  57.71090            &  8053               \\\\\n",
       "\t Hungary              &  56.30389            &   436               \\\\\n",
       "\t Saudi Arabia         &  56.19696            &   383               \\\\\n",
       "\t Portugal             &  55.65591            &   838               \\\\\n",
       "\t France               &  55.04235            & 13381               \\\\\n",
       "\t United Arab Emirates &  53.51414            &  2036               \\\\\n",
       "\t Russian Federation   &  53.20713            &  1796               \\\\\n",
       "\t United States        &  50.91783            & 43434               \\\\\n",
       "\t Australia            &  50.89756            &  2484               \\\\\n",
       "\t South Africa         &  50.84594            &   526               \\\\\n",
       "\t Switzerland          &  50.67189            &   370               \\\\\n",
       "\t Qatar                &  50.06116            &   307               \\\\\n",
       "\t Moldova, Republic Of &  50.04167            &     9               \\\\\n",
       "\t El Salvador          &  50.04111            &    88               \\\\\n",
       "\t Sweden               &  50.00000            &     5               \\\\\n",
       "\\end{tabular}\n"
      ],
      "text/markdown": [
       "\n",
       "country | country_mean | num_records | \n",
       "|---|---|---|---|---|---|---|---|---|---|---|---|---|---|---|---|---|---|---|---|\n",
       "| Faroe Islands        | 100.00000            |     1                | \n",
       "| Ireland              | 100.00000            |     1                | \n",
       "| Chile                |  64.37945            |   366                | \n",
       "| Uganda               |  62.17117            |   140                | \n",
       "| United Kingdom       |  59.21968            | 13605                | \n",
       "| Germany              |  57.71090            |  8053                | \n",
       "| Hungary              |  56.30389            |   436                | \n",
       "| Saudi Arabia         |  56.19696            |   383                | \n",
       "| Portugal             |  55.65591            |   838                | \n",
       "| France               |  55.04235            | 13381                | \n",
       "| United Arab Emirates |  53.51414            |  2036                | \n",
       "| Russian Federation   |  53.20713            |  1796                | \n",
       "| United States        |  50.91783            | 43434                | \n",
       "| Australia            |  50.89756            |  2484                | \n",
       "| South Africa         |  50.84594            |   526                | \n",
       "| Switzerland          |  50.67189            |   370                | \n",
       "| Qatar                |  50.06116            |   307                | \n",
       "| Moldova, Republic Of |  50.04167            |     9                | \n",
       "| El Salvador          |  50.04111            |    88                | \n",
       "| Sweden               |  50.00000            |     5                | \n",
       "\n",
       "\n"
      ],
      "text/plain": [
       "   country              country_mean num_records\n",
       "1  Faroe Islands        100.00000        1      \n",
       "2  Ireland              100.00000        1      \n",
       "3  Chile                 64.37945      366      \n",
       "4  Uganda                62.17117      140      \n",
       "5  United Kingdom        59.21968    13605      \n",
       "6  Germany               57.71090     8053      \n",
       "7  Hungary               56.30389      436      \n",
       "8  Saudi Arabia          56.19696      383      \n",
       "9  Portugal              55.65591      838      \n",
       "10 France                55.04235    13381      \n",
       "11 United Arab Emirates  53.51414     2036      \n",
       "12 Russian Federation    53.20713     1796      \n",
       "13 United States         50.91783    43434      \n",
       "14 Australia             50.89756     2484      \n",
       "15 South Africa          50.84594      526      \n",
       "16 Switzerland           50.67189      370      \n",
       "17 Qatar                 50.06116      307      \n",
       "18 Moldova, Republic Of  50.04167        9      \n",
       "19 El Salvador           50.04111       88      \n",
       "20 Sweden                50.00000        5      "
      ]
     },
     "metadata": {},
     "output_type": "display_data"
    },
    {
     "data": {
      "text/html": [
       "<table>\n",
       "<thead><tr><th scope=col>country</th><th scope=col>country_mean</th><th scope=col>num_records</th></tr></thead>\n",
       "<tbody>\n",
       "\t<tr><td>Indonesia         </td><td>32.378664         </td><td>1408              </td></tr>\n",
       "\t<tr><td>Korea, Republic Of</td><td>32.100312         </td><td>5827              </td></tr>\n",
       "\t<tr><td>NA                </td><td>31.190268         </td><td> 371              </td></tr>\n",
       "\t<tr><td>Peru              </td><td>30.380952         </td><td> 163              </td></tr>\n",
       "\t<tr><td>Malaysia          </td><td>29.096040         </td><td>3513              </td></tr>\n",
       "\t<tr><td>Poland            </td><td>25.464026         </td><td>3352              </td></tr>\n",
       "\t<tr><td>Guatemala         </td><td>25.037342         </td><td> 558              </td></tr>\n",
       "\t<tr><td>Austria           </td><td>24.626027         </td><td> 936              </td></tr>\n",
       "\t<tr><td>Israel            </td><td>24.441354         </td><td> 723              </td></tr>\n",
       "\t<tr><td>Turkey            </td><td>23.947912         </td><td>3190              </td></tr>\n",
       "\t<tr><td>Philippines       </td><td>23.036426         </td><td> 823              </td></tr>\n",
       "\t<tr><td>Bangladesh        </td><td>22.255556         </td><td>  71              </td></tr>\n",
       "\t<tr><td>Sri Lanka         </td><td>20.740491         </td><td> 105              </td></tr>\n",
       "\t<tr><td>Ukraine           </td><td>17.875000         </td><td> 132              </td></tr>\n",
       "\t<tr><td>Netherlands       </td><td>15.740464         </td><td>3590              </td></tr>\n",
       "\t<tr><td>Jordan            </td><td>11.259259         </td><td> 141              </td></tr>\n",
       "\t<tr><td>China             </td><td> 9.588023         </td><td>9765              </td></tr>\n",
       "\t<tr><td>Azerbaijan        </td><td> 0.250000         </td><td>   8              </td></tr>\n",
       "\t<tr><td>Armenia           </td><td> 0.000000         </td><td>   1              </td></tr>\n",
       "\t<tr><td>Norway            </td><td> 0.000000         </td><td>  32              </td></tr>\n",
       "</tbody>\n",
       "</table>\n"
      ],
      "text/latex": [
       "\\begin{tabular}{r|lll}\n",
       " country & country\\_mean & num\\_records\\\\\n",
       "\\hline\n",
       "\t Indonesia          & 32.378664          & 1408              \\\\\n",
       "\t Korea, Republic Of & 32.100312          & 5827              \\\\\n",
       "\t NA                 & 31.190268          &  371              \\\\\n",
       "\t Peru               & 30.380952          &  163              \\\\\n",
       "\t Malaysia           & 29.096040          & 3513              \\\\\n",
       "\t Poland             & 25.464026          & 3352              \\\\\n",
       "\t Guatemala          & 25.037342          &  558              \\\\\n",
       "\t Austria            & 24.626027          &  936              \\\\\n",
       "\t Israel             & 24.441354          &  723              \\\\\n",
       "\t Turkey             & 23.947912          & 3190              \\\\\n",
       "\t Philippines        & 23.036426          &  823              \\\\\n",
       "\t Bangladesh         & 22.255556          &   71              \\\\\n",
       "\t Sri Lanka          & 20.740491          &  105              \\\\\n",
       "\t Ukraine            & 17.875000          &  132              \\\\\n",
       "\t Netherlands        & 15.740464          & 3590              \\\\\n",
       "\t Jordan             & 11.259259          &  141              \\\\\n",
       "\t China              &  9.588023          & 9765              \\\\\n",
       "\t Azerbaijan         &  0.250000          &    8              \\\\\n",
       "\t Armenia            &  0.000000          &    1              \\\\\n",
       "\t Norway             &  0.000000          &   32              \\\\\n",
       "\\end{tabular}\n"
      ],
      "text/markdown": [
       "\n",
       "country | country_mean | num_records | \n",
       "|---|---|---|---|---|---|---|---|---|---|---|---|---|---|---|---|---|---|---|---|\n",
       "| Indonesia          | 32.378664          | 1408               | \n",
       "| Korea, Republic Of | 32.100312          | 5827               | \n",
       "| NA                 | 31.190268          |  371               | \n",
       "| Peru               | 30.380952          |  163               | \n",
       "| Malaysia           | 29.096040          | 3513               | \n",
       "| Poland             | 25.464026          | 3352               | \n",
       "| Guatemala          | 25.037342          |  558               | \n",
       "| Austria            | 24.626027          |  936               | \n",
       "| Israel             | 24.441354          |  723               | \n",
       "| Turkey             | 23.947912          | 3190               | \n",
       "| Philippines        | 23.036426          |  823               | \n",
       "| Bangladesh         | 22.255556          |   71               | \n",
       "| Sri Lanka          | 20.740491          |  105               | \n",
       "| Ukraine            | 17.875000          |  132               | \n",
       "| Netherlands        | 15.740464          | 3590               | \n",
       "| Jordan             | 11.259259          |  141               | \n",
       "| China              |  9.588023          | 9765               | \n",
       "| Azerbaijan         |  0.250000          |    8               | \n",
       "| Armenia            |  0.000000          |    1               | \n",
       "| Norway             |  0.000000          |   32               | \n",
       "\n",
       "\n"
      ],
      "text/plain": [
       "   country            country_mean num_records\n",
       "1  Indonesia          32.378664    1408       \n",
       "2  Korea, Republic Of 32.100312    5827       \n",
       "3  NA                 31.190268     371       \n",
       "4  Peru               30.380952     163       \n",
       "5  Malaysia           29.096040    3513       \n",
       "6  Poland             25.464026    3352       \n",
       "7  Guatemala          25.037342     558       \n",
       "8  Austria            24.626027     936       \n",
       "9  Israel             24.441354     723       \n",
       "10 Turkey             23.947912    3190       \n",
       "11 Philippines        23.036426     823       \n",
       "12 Bangladesh         22.255556      71       \n",
       "13 Sri Lanka          20.740491     105       \n",
       "14 Ukraine            17.875000     132       \n",
       "15 Netherlands        15.740464    3590       \n",
       "16 Jordan             11.259259     141       \n",
       "17 China               9.588023    9765       \n",
       "18 Azerbaijan          0.250000       8       \n",
       "19 Armenia             0.000000       1       \n",
       "20 Norway              0.000000      32       "
      ]
     },
     "metadata": {},
     "output_type": "display_data"
    }
   ],
   "source": [
    "country_sum = country_sum %>% arrange(desc(country_mean))\n",
    "head(country_sum, 20)\n",
    "tail(country_sum, 20)"
   ]
  },
  {
   "cell_type": "code",
   "execution_count": null,
   "metadata": {},
   "outputs": [],
   "source": []
  }
 ],
 "metadata": {
  "kernelspec": {
   "display_name": "R",
   "language": "R",
   "name": "ir"
  },
  "language_info": {
   "codemirror_mode": "r",
   "file_extension": ".r",
   "mimetype": "text/x-r-source",
   "name": "R",
   "pygments_lexer": "r",
   "version": "3.4.2"
  }
 },
 "nbformat": 4,
 "nbformat_minor": 2
}
